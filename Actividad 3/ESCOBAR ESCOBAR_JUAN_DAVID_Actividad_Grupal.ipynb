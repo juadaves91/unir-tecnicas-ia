{
 "cells": [
  {
   "cell_type": "markdown",
   "id": "65d86466",
   "metadata": {},
   "source": [
    "<img src=\"https://www.unir.net/wp-content/uploads/2019/11/Unir_2021_logo.svg\" width=\"240\" height=\"240\" align=\"right\"/>"
   ]
  },
  {
   "cell_type": "markdown",
   "id": "3e5ea54c",
   "metadata": {},
   "source": [
    "<h1 align=\"left\"> Actividad 3 - Actividad grupal: Análisis libre de un catálogo de datos</h1>"
   ]
  },
  {
   "cell_type": "markdown",
   "id": "52b9c779",
   "metadata": {},
   "source": [
    "* JUAN MANUEL BAUTISTA CORREA – Líder</br>\n",
    "* WILLIAM RAMIRO RIOS HENAO – Analista de Datos</br>\n",
    "* JUAN DAVID ESCOBAR ESCOBAR – Ingeniero de Datos</br>\n",
    "* ANDRÉS FELIPE LEAL MORA – Manipulación de Datos</br></br>\n",
    "\n",
    "* Marzo 2022.\n",
    "* Grupo 14."
   ]
  },
  {
   "cell_type": "markdown",
   "id": "37d909d5",
   "metadata": {},
   "source": [
    "<h3>Catalogos de Datos</h3>\n",
    "\n",
    "<ol type=\"1\">\n",
    "  <li>\n",
    "      <span><b>Fuente de datos 1: </b></span><a href=\"https://github.com/juadaves91/unir-tecnicas-ia/blob/main/Actividad%203/COVID-19-geographic-disbtribution-worldwide.xlsx\">COVID-19-geographic-disbtribution-worldwide.xlsx</a>, Tomados de <a href=\"https://data.europa.eu/euodp/es/data/dataset/covid-19-coronavirus-data/\"> (Ver más)</a>\n",
    "    </li>\n",
    "      <li>\n",
    "            <span><b>Fuente de datos 2: </b></span><a href=\"https://github.com/juadaves91/unir-tecnicas-ia/blob/main/Actividad%203/Muertes%20VIH.xlsx\">Muertes VIH.xlsx</a>, Tomados de <a href=\"https://www.who.int/data/gho/data/indicators/indicator-details/GHO/number-of-deaths-due-to-hiv-aids\"> (Ver más)</a>\n",
    "    </li>   \n",
    "      <li>\n",
    "            <span><b>Fuente de datos 3: </b></span><a href=\"https://raw.githubusercontent.com/juadaves91/unir-tecnicas-ia/main/Actividad%203/CONSOLIDADO_COVID_VIH_2013_2020.csv\">CONSOLIDADO_COVID_VIH_2013_2020.csv</a>,  conjunto de datos unificado y consolidado (Fuente de datos 1 + Fuente de datos 2), mediante la intersección del campo estandarizado PAIS. \n",
    "    </li>\n",
    "</ol>  "
   ]
  },
  {
   "cell_type": "markdown",
   "id": "773e6ce0",
   "metadata": {},
   "source": [
    "## EDA - Exploración de datos"
   ]
  },
  {
   "cell_type": "markdown",
   "id": "f1e1e773",
   "metadata": {},
   "source": [
    "### Install libraries"
   ]
  },
  {
   "cell_type": "code",
   "execution_count": 1,
   "id": "20a094f1",
   "metadata": {},
   "outputs": [
    {
     "name": "stdout",
     "output_type": "stream",
     "text": [
      "Requirement already satisfied: requests in c:\\users\\willy\\anaconda3\\lib\\site-packages (2.26.0)\n",
      "Requirement already satisfied: certifi>=2017.4.17 in c:\\users\\willy\\anaconda3\\lib\\site-packages (from requests) (2021.10.8)\n",
      "Requirement already satisfied: charset-normalizer~=2.0.0 in c:\\users\\willy\\anaconda3\\lib\\site-packages (from requests) (2.0.4)\n",
      "Requirement already satisfied: idna<4,>=2.5 in c:\\users\\willy\\anaconda3\\lib\\site-packages (from requests) (3.2)\n",
      "Requirement already satisfied: urllib3<1.27,>=1.21.1 in c:\\users\\willy\\anaconda3\\lib\\site-packages (from requests) (1.26.7)\n"
     ]
    }
   ],
   "source": [
    "!pip install requests"
   ]
  },
  {
   "cell_type": "markdown",
   "id": "c0d99950",
   "metadata": {},
   "source": [
    "### importar librerias e inicializar variables "
   ]
  },
  {
   "cell_type": "code",
   "execution_count": 1,
   "id": "e47bca7d",
   "metadata": {},
   "outputs": [],
   "source": [
    "import pandas as pd\n",
    "import requests\n",
    "import io\n",
    "import matplotlib.pyplot as plt\n",
    "import seaborn as sns"
   ]
  },
  {
   "cell_type": "code",
   "execution_count": 2,
   "id": "8323039e",
   "metadata": {},
   "outputs": [
    {
     "name": "stdout",
     "output_type": "stream",
     "text": [
      "          PAIS CONTINENTE  PERIODO  CASOS_COVID  MUERTES_COVID  MUERTES_VIH  \\\n",
      "0  Afghanistan       Asia     2020      49273.0         1971.0        540.0   \n",
      "1      Albania     Europe     2020      48530.0         1003.0         99.0   \n",
      "2      Algeria     Africa     2020      92102.0         2596.0        350.0   \n",
      "3      Andorra     Europe     2020       7338.0           79.0          NaN   \n",
      "4       Angola     Africa     2020      16188.0          371.0      16000.0   \n",
      "\n",
      "    POBLACION AREA_KM2  PROMEDIO_EDAD  COVERTURA_TERAPIA_VIH  \n",
      "0  38928346.0   652,86           18.0                    9.0  \n",
      "1   2877797.0     27,4           36.0                   47.0  \n",
      "2  43851044.0  2381740           29.0                   85.0  \n",
      "3     77265.0      470           46.0                    NaN  \n",
      "4  32866272.0  1246700           17.0                   33.0  \n"
     ]
    },
    {
     "data": {
      "text/plain": [
       "(1704, 10)"
      ]
     },
     "execution_count": 2,
     "metadata": {},
     "output_type": "execute_result"
    }
   ],
   "source": [
    "url = \"https://github.com/juadaves91/unir-tecnicas-ia/blob/main/Actividad%203/CONSOLIDADO_COVID_VIH_2013_2020%20(1).csv\"\n",
    "download = requests.get(url).content\n",
    "\n",
    "#df_covid_vih = pd.read_csv(io.StringIO(download.decode('utf-8')), sep=\";\")\n",
    "\n",
    "df_covid_vih = pd.read_csv('CONSOLIDADO_COVID_VIH_2013_2020.csv', sep=\";\", ) # Lectura del dataset, guardado de manera local\n",
    "\n",
    "print(df_covid_vih.head())\n",
    "\n",
    "df_covid_vih.shape"
   ]
  },
  {
   "cell_type": "code",
   "execution_count": 3,
   "id": "299cb830",
   "metadata": {},
   "outputs": [],
   "source": [
    "df_covid_vih['AREA_KM2'] = df_covid_vih['AREA_KM2'].str.replace(\",\", \".\").astype(float)"
   ]
  },
  {
   "cell_type": "code",
   "execution_count": 4,
   "id": "7cae5864",
   "metadata": {},
   "outputs": [
    {
     "data": {
      "text/html": [
       "<div>\n",
       "<style scoped>\n",
       "    .dataframe tbody tr th:only-of-type {\n",
       "        vertical-align: middle;\n",
       "    }\n",
       "\n",
       "    .dataframe tbody tr th {\n",
       "        vertical-align: top;\n",
       "    }\n",
       "\n",
       "    .dataframe thead th {\n",
       "        text-align: right;\n",
       "    }\n",
       "</style>\n",
       "<table border=\"1\" class=\"dataframe\">\n",
       "  <thead>\n",
       "    <tr style=\"text-align: right;\">\n",
       "      <th></th>\n",
       "      <th>PAIS</th>\n",
       "      <th>CONTINENTE</th>\n",
       "      <th>PERIODO</th>\n",
       "      <th>CASOS_COVID</th>\n",
       "      <th>MUERTES_COVID</th>\n",
       "      <th>MUERTES_VIH</th>\n",
       "      <th>POBLACION</th>\n",
       "      <th>AREA_KM2</th>\n",
       "      <th>PROMEDIO_EDAD</th>\n",
       "      <th>COVERTURA_TERAPIA_VIH</th>\n",
       "    </tr>\n",
       "  </thead>\n",
       "  <tbody>\n",
       "    <tr>\n",
       "      <th>0</th>\n",
       "      <td>Afghanistan</td>\n",
       "      <td>Asia</td>\n",
       "      <td>2020</td>\n",
       "      <td>49273.0</td>\n",
       "      <td>1971.0</td>\n",
       "      <td>540.0</td>\n",
       "      <td>38928346.0</td>\n",
       "      <td>652.86</td>\n",
       "      <td>18.0</td>\n",
       "      <td>9.0</td>\n",
       "    </tr>\n",
       "    <tr>\n",
       "      <th>1</th>\n",
       "      <td>Albania</td>\n",
       "      <td>Europe</td>\n",
       "      <td>2020</td>\n",
       "      <td>48530.0</td>\n",
       "      <td>1003.0</td>\n",
       "      <td>99.0</td>\n",
       "      <td>2877797.0</td>\n",
       "      <td>27.40</td>\n",
       "      <td>36.0</td>\n",
       "      <td>47.0</td>\n",
       "    </tr>\n",
       "    <tr>\n",
       "      <th>2</th>\n",
       "      <td>Algeria</td>\n",
       "      <td>Africa</td>\n",
       "      <td>2020</td>\n",
       "      <td>92102.0</td>\n",
       "      <td>2596.0</td>\n",
       "      <td>350.0</td>\n",
       "      <td>43851044.0</td>\n",
       "      <td>2381740.00</td>\n",
       "      <td>29.0</td>\n",
       "      <td>85.0</td>\n",
       "    </tr>\n",
       "    <tr>\n",
       "      <th>3</th>\n",
       "      <td>Andorra</td>\n",
       "      <td>Europe</td>\n",
       "      <td>2020</td>\n",
       "      <td>7338.0</td>\n",
       "      <td>79.0</td>\n",
       "      <td>NaN</td>\n",
       "      <td>77265.0</td>\n",
       "      <td>470.00</td>\n",
       "      <td>46.0</td>\n",
       "      <td>NaN</td>\n",
       "    </tr>\n",
       "    <tr>\n",
       "      <th>4</th>\n",
       "      <td>Angola</td>\n",
       "      <td>Africa</td>\n",
       "      <td>2020</td>\n",
       "      <td>16188.0</td>\n",
       "      <td>371.0</td>\n",
       "      <td>16000.0</td>\n",
       "      <td>32866272.0</td>\n",
       "      <td>1246700.00</td>\n",
       "      <td>17.0</td>\n",
       "      <td>33.0</td>\n",
       "    </tr>\n",
       "  </tbody>\n",
       "</table>\n",
       "</div>"
      ],
      "text/plain": [
       "          PAIS CONTINENTE  PERIODO  CASOS_COVID  MUERTES_COVID  MUERTES_VIH  \\\n",
       "0  Afghanistan       Asia     2020      49273.0         1971.0        540.0   \n",
       "1      Albania     Europe     2020      48530.0         1003.0         99.0   \n",
       "2      Algeria     Africa     2020      92102.0         2596.0        350.0   \n",
       "3      Andorra     Europe     2020       7338.0           79.0          NaN   \n",
       "4       Angola     Africa     2020      16188.0          371.0      16000.0   \n",
       "\n",
       "    POBLACION    AREA_KM2  PROMEDIO_EDAD  COVERTURA_TERAPIA_VIH  \n",
       "0  38928346.0      652.86           18.0                    9.0  \n",
       "1   2877797.0       27.40           36.0                   47.0  \n",
       "2  43851044.0  2381740.00           29.0                   85.0  \n",
       "3     77265.0      470.00           46.0                    NaN  \n",
       "4  32866272.0  1246700.00           17.0                   33.0  "
      ]
     },
     "execution_count": 4,
     "metadata": {},
     "output_type": "execute_result"
    }
   ],
   "source": [
    "df_covid_vih.head()"
   ]
  },
  {
   "cell_type": "code",
   "execution_count": 5,
   "id": "a06b046e",
   "metadata": {},
   "outputs": [
    {
     "name": "stdout",
     "output_type": "stream",
     "text": [
      "<class 'pandas.core.frame.DataFrame'>\n",
      "RangeIndex: 1704 entries, 0 to 1703\n",
      "Data columns (total 10 columns):\n",
      " #   Column                 Non-Null Count  Dtype  \n",
      "---  ------                 --------------  -----  \n",
      " 0   PAIS                   1704 non-null   object \n",
      " 1   CONTINENTE             1704 non-null   object \n",
      " 2   PERIODO                1704 non-null   int64  \n",
      " 3   CASOS_COVID            213 non-null    float64\n",
      " 4   MUERTES_COVID          279 non-null    float64\n",
      " 5   MUERTES_VIH            1040 non-null   float64\n",
      " 6   POBLACION              213 non-null    float64\n",
      " 7   AREA_KM2               213 non-null    float64\n",
      " 8   PROMEDIO_EDAD          213 non-null    float64\n",
      " 9   COVERTURA_TERAPIA_VIH  131 non-null    float64\n",
      "dtypes: float64(7), int64(1), object(2)\n",
      "memory usage: 133.2+ KB\n"
     ]
    }
   ],
   "source": [
    "df_covid_vih.info()"
   ]
  },
  {
   "cell_type": "markdown",
   "id": "df44e5b7",
   "metadata": {},
   "source": [
    "### Validar valores de cada variable"
   ]
  },
  {
   "cell_type": "code",
   "execution_count": 6,
   "id": "dfd2f072",
   "metadata": {},
   "outputs": [],
   "source": [
    "#df_covid_vih['PAIS'].unique()"
   ]
  },
  {
   "cell_type": "code",
   "execution_count": 7,
   "id": "d06d12f3",
   "metadata": {},
   "outputs": [
    {
     "data": {
      "text/plain": [
       "array(['Asia', 'Europe', 'Africa', 'America', 'Oceania'], dtype=object)"
      ]
     },
     "execution_count": 7,
     "metadata": {},
     "output_type": "execute_result"
    }
   ],
   "source": [
    "df_covid_vih['CONTINENTE'].unique()"
   ]
  },
  {
   "cell_type": "code",
   "execution_count": 8,
   "id": "c25d8ffb",
   "metadata": {},
   "outputs": [
    {
     "data": {
      "text/plain": [
       "array([2020, 2019, 2018, 2017, 2016, 2015, 2014, 2013], dtype=int64)"
      ]
     },
     "execution_count": 8,
     "metadata": {},
     "output_type": "execute_result"
    }
   ],
   "source": [
    "df_covid_vih['PERIODO'].unique()"
   ]
  },
  {
   "cell_type": "code",
   "execution_count": 9,
   "id": "88118758",
   "metadata": {},
   "outputs": [],
   "source": [
    "#df_covid_vih['CASOS_COVID'].unique()"
   ]
  },
  {
   "cell_type": "code",
   "execution_count": 10,
   "id": "652c1859",
   "metadata": {},
   "outputs": [],
   "source": [
    "#df_covid_vih['MUERTES_COVID'].unique()"
   ]
  },
  {
   "cell_type": "code",
   "execution_count": 11,
   "id": "01193cbd",
   "metadata": {},
   "outputs": [],
   "source": [
    "#df_covid_vih['MUERTES_VIH'].unique()"
   ]
  },
  {
   "cell_type": "markdown",
   "id": "380f03d4",
   "metadata": {},
   "source": [
    "### Remplazo de valores null para estandarizar tipos de datos correctos"
   ]
  },
  {
   "cell_type": "code",
   "execution_count": 12,
   "id": "142d3701",
   "metadata": {},
   "outputs": [
    {
     "data": {
      "text/plain": [
       "'\\nTIPOS DE DATOS INFERIDOS AUTOMATICAMENTE POR PANDAS:\\n\\nNro  Column         Non-Null Count  Dtype  \\n---  ------         --------------  -----  \\n 0   PAIS           1704 non-null   object \\n 1   CONTINENTE     1704 non-null   object \\n 2   PERIODO        1704 non-null   int64  \\n 3   CASOS_COVID    1704 non-null   int64  \\n 4   MUERTES_COVID  279 non-null    float64\\n 5   MUERTES_VIH    1040 non-null   float64\\n \\n \\nTIPOS DE DATOS CORRECTOS:\\n \\n Nro  Column         Non-Null Count  Dtype  \\n---  ------         --------------  -----  \\n 0   PAIS           1704 non-null   object or category\\n 1   CONTINENTE     1704 non-null   object or category \\n 2   PERIODO        1704 non-null   int64  \\n 3   CASOS_COVID    1704 non-null   int64  \\n 4   MUERTES_COVID  279 non-null    int64\\n 5   MUERTES_VIH    1040 non-null   int64\\n \\n https://pbpython.com/pandas_dtypes.html\\n '"
      ]
     },
     "execution_count": 12,
     "metadata": {},
     "output_type": "execute_result"
    }
   ],
   "source": [
    "'''\n",
    "TIPOS DE DATOS INFERIDOS AUTOMATICAMENTE POR PANDAS:\n",
    "\n",
    "Nro  Column         Non-Null Count  Dtype  \n",
    "---  ------         --------------  -----  \n",
    " 0   PAIS           1704 non-null   object \n",
    " 1   CONTINENTE     1704 non-null   object \n",
    " 2   PERIODO        1704 non-null   int64  \n",
    " 3   CASOS_COVID    1704 non-null   int64  \n",
    " 4   MUERTES_COVID  279 non-null    float64\n",
    " 5   MUERTES_VIH    1040 non-null   float64\n",
    " \n",
    " \n",
    "TIPOS DE DATOS CORRECTOS:\n",
    " \n",
    " Nro  Column         Non-Null Count  Dtype  \n",
    "---  ------         --------------  -----  \n",
    " 0   PAIS           1704 non-null   object or category\n",
    " 1   CONTINENTE     1704 non-null   object or category \n",
    " 2   PERIODO        1704 non-null   int64  \n",
    " 3   CASOS_COVID    1704 non-null   int64  \n",
    " 4   MUERTES_COVID  279 non-null    int64\n",
    " 5   MUERTES_VIH    1040 non-null   int64\n",
    " \n",
    " https://pbpython.com/pandas_dtypes.html\n",
    " '''"
   ]
  },
  {
   "cell_type": "code",
   "execution_count": 13,
   "id": "30090fe6",
   "metadata": {},
   "outputs": [],
   "source": [
    "df_covid_vih['CASOS_COVID'] = df_covid_vih['CASOS_COVID'].fillna('0')\n",
    "df_covid_vih['MUERTES_COVID'] = df_covid_vih['MUERTES_COVID'].fillna('0')\n",
    "df_covid_vih['MUERTES_VIH'] = df_covid_vih['MUERTES_VIH'].fillna('0')\n",
    "df_covid_vih['POBLACION'] = df_covid_vih['POBLACION'].fillna('0')\n",
    "df_covid_vih['AREA_KM2'] = df_covid_vih['AREA_KM2'].fillna('0')\n",
    "df_covid_vih['PROMEDIO_EDAD'] = df_covid_vih['PROMEDIO_EDAD'].fillna('0')\n",
    "df_covid_vih['COVERTURA_TERAPIA_VIH'] = df_covid_vih['COVERTURA_TERAPIA_VIH'].fillna('0')"
   ]
  },
  {
   "cell_type": "code",
   "execution_count": 14,
   "id": "035ecb28",
   "metadata": {},
   "outputs": [],
   "source": [
    "df_covid_vih['CASOS_COVID'] = df_covid_vih['CASOS_COVID'].astype('int')\n",
    "df_covid_vih['MUERTES_COVID'] = df_covid_vih['MUERTES_COVID'].astype('int')\n",
    "df_covid_vih['MUERTES_VIH'] = df_covid_vih['MUERTES_VIH'].astype('int')\n",
    "df_covid_vih['POBLACION'] = df_covid_vih['POBLACION'].astype('int')\n",
    "df_covid_vih['AREA_KM2'] = df_covid_vih['AREA_KM2'].astype('float')\n",
    "df_covid_vih['PROMEDIO_EDAD'] = df_covid_vih['PROMEDIO_EDAD'].astype('int')\n",
    "df_covid_vih['COVERTURA_TERAPIA_VIH'] = df_covid_vih['COVERTURA_TERAPIA_VIH'].astype('int')"
   ]
  },
  {
   "cell_type": "code",
   "execution_count": 15,
   "id": "ee620049",
   "metadata": {},
   "outputs": [
    {
     "name": "stdout",
     "output_type": "stream",
     "text": [
      "<class 'pandas.core.frame.DataFrame'>\n",
      "RangeIndex: 1704 entries, 0 to 1703\n",
      "Data columns (total 10 columns):\n",
      " #   Column                 Non-Null Count  Dtype  \n",
      "---  ------                 --------------  -----  \n",
      " 0   PAIS                   1704 non-null   object \n",
      " 1   CONTINENTE             1704 non-null   object \n",
      " 2   PERIODO                1704 non-null   int64  \n",
      " 3   CASOS_COVID            1704 non-null   int32  \n",
      " 4   MUERTES_COVID          1704 non-null   int32  \n",
      " 5   MUERTES_VIH            1704 non-null   int32  \n",
      " 6   POBLACION              1704 non-null   int32  \n",
      " 7   AREA_KM2               1704 non-null   float64\n",
      " 8   PROMEDIO_EDAD          1704 non-null   int32  \n",
      " 9   COVERTURA_TERAPIA_VIH  1704 non-null   int32  \n",
      "dtypes: float64(1), int32(6), int64(1), object(2)\n",
      "memory usage: 93.3+ KB\n"
     ]
    }
   ],
   "source": [
    "df_covid_vih.info()"
   ]
  },
  {
   "cell_type": "code",
   "execution_count": 16,
   "id": "bc6a45f8",
   "metadata": {},
   "outputs": [],
   "source": [
    "list_cols_estandarizadas = ['CASOS_COVID', 'MUERTES_COVID', 'MUERTES_VIH']\n",
    "\n",
    "# Para visualizar los datos en forma de listas.\n",
    "#for col in list_cols_estandarizadas:\n",
    "#    print(col, '\\n', '-'*20)\n",
    "#    print(df_covid_vih[col].unique())"
   ]
  },
  {
   "cell_type": "markdown",
   "id": "1c0f97d9",
   "metadata": {},
   "source": [
    "### Descripción de los datos"
   ]
  },
  {
   "cell_type": "code",
   "execution_count": 136,
   "id": "021f107e",
   "metadata": {},
   "outputs": [
    {
     "data": {
      "text/html": [
       "<div>\n",
       "<style scoped>\n",
       "    .dataframe tbody tr th:only-of-type {\n",
       "        vertical-align: middle;\n",
       "    }\n",
       "\n",
       "    .dataframe tbody tr th {\n",
       "        vertical-align: top;\n",
       "    }\n",
       "\n",
       "    .dataframe thead th {\n",
       "        text-align: right;\n",
       "    }\n",
       "</style>\n",
       "<table border=\"1\" class=\"dataframe\">\n",
       "  <thead>\n",
       "    <tr style=\"text-align: right;\">\n",
       "      <th></th>\n",
       "      <th>count</th>\n",
       "      <th>mean</th>\n",
       "      <th>std</th>\n",
       "      <th>min</th>\n",
       "      <th>25%</th>\n",
       "      <th>50%</th>\n",
       "      <th>75%</th>\n",
       "      <th>max</th>\n",
       "    </tr>\n",
       "  </thead>\n",
       "  <tbody>\n",
       "    <tr>\n",
       "      <th>PERIODO</th>\n",
       "      <td>1704.0</td>\n",
       "      <td>2.016500e+03</td>\n",
       "      <td>2.291960e+00</td>\n",
       "      <td>2013.0</td>\n",
       "      <td>2014.75</td>\n",
       "      <td>2016.5</td>\n",
       "      <td>2018.25</td>\n",
       "      <td>2.020000e+03</td>\n",
       "    </tr>\n",
       "    <tr>\n",
       "      <th>CASOS_COVID</th>\n",
       "      <td>1704.0</td>\n",
       "      <td>4.196179e+04</td>\n",
       "      <td>5.129320e+05</td>\n",
       "      <td>0.0</td>\n",
       "      <td>0.00</td>\n",
       "      <td>0.0</td>\n",
       "      <td>0.00</td>\n",
       "      <td>1.625675e+07</td>\n",
       "    </tr>\n",
       "    <tr>\n",
       "      <th>MUERTES_COVID</th>\n",
       "      <td>1704.0</td>\n",
       "      <td>9.464941e+02</td>\n",
       "      <td>1.035305e+04</td>\n",
       "      <td>0.0</td>\n",
       "      <td>0.00</td>\n",
       "      <td>0.0</td>\n",
       "      <td>0.00</td>\n",
       "      <td>2.991770e+05</td>\n",
       "    </tr>\n",
       "    <tr>\n",
       "      <th>MUERTES_VIH</th>\n",
       "      <td>1704.0</td>\n",
       "      <td>3.183318e+03</td>\n",
       "      <td>9.452751e+03</td>\n",
       "      <td>0.0</td>\n",
       "      <td>0.00</td>\n",
       "      <td>99.0</td>\n",
       "      <td>1300.00</td>\n",
       "      <td>9.900000e+04</td>\n",
       "    </tr>\n",
       "    <tr>\n",
       "      <th>POBLACION</th>\n",
       "      <td>1704.0</td>\n",
       "      <td>4.549485e+06</td>\n",
       "      <td>5.138057e+07</td>\n",
       "      <td>0.0</td>\n",
       "      <td>0.00</td>\n",
       "      <td>0.0</td>\n",
       "      <td>0.00</td>\n",
       "      <td>1.439324e+09</td>\n",
       "    </tr>\n",
       "    <tr>\n",
       "      <th>AREA_KM2</th>\n",
       "      <td>1704.0</td>\n",
       "      <td>5.930409e+04</td>\n",
       "      <td>6.496052e+05</td>\n",
       "      <td>0.0</td>\n",
       "      <td>0.00</td>\n",
       "      <td>0.0</td>\n",
       "      <td>0.00</td>\n",
       "      <td>1.637687e+07</td>\n",
       "    </tr>\n",
       "    <tr>\n",
       "      <th>PROMEDIO_EDAD</th>\n",
       "      <td>1704.0</td>\n",
       "      <td>3.948357e+00</td>\n",
       "      <td>1.097409e+01</td>\n",
       "      <td>0.0</td>\n",
       "      <td>0.00</td>\n",
       "      <td>0.0</td>\n",
       "      <td>0.00</td>\n",
       "      <td>7.000000e+01</td>\n",
       "    </tr>\n",
       "    <tr>\n",
       "      <th>COVERTURA_TERAPIA_VIH</th>\n",
       "      <td>1704.0</td>\n",
       "      <td>4.778756e+00</td>\n",
       "      <td>1.746399e+01</td>\n",
       "      <td>0.0</td>\n",
       "      <td>0.00</td>\n",
       "      <td>0.0</td>\n",
       "      <td>0.00</td>\n",
       "      <td>9.300000e+01</td>\n",
       "    </tr>\n",
       "  </tbody>\n",
       "</table>\n",
       "</div>"
      ],
      "text/plain": [
       "                        count          mean           std     min      25%  \\\n",
       "PERIODO                1704.0  2.016500e+03  2.291960e+00  2013.0  2014.75   \n",
       "CASOS_COVID            1704.0  4.196179e+04  5.129320e+05     0.0     0.00   \n",
       "MUERTES_COVID          1704.0  9.464941e+02  1.035305e+04     0.0     0.00   \n",
       "MUERTES_VIH            1704.0  3.183318e+03  9.452751e+03     0.0     0.00   \n",
       "POBLACION              1704.0  4.549485e+06  5.138057e+07     0.0     0.00   \n",
       "AREA_KM2               1704.0  5.930409e+04  6.496052e+05     0.0     0.00   \n",
       "PROMEDIO_EDAD          1704.0  3.948357e+00  1.097409e+01     0.0     0.00   \n",
       "COVERTURA_TERAPIA_VIH  1704.0  4.778756e+00  1.746399e+01     0.0     0.00   \n",
       "\n",
       "                          50%      75%           max  \n",
       "PERIODO                2016.5  2018.25  2.020000e+03  \n",
       "CASOS_COVID               0.0     0.00  1.625675e+07  \n",
       "MUERTES_COVID             0.0     0.00  2.991770e+05  \n",
       "MUERTES_VIH              99.0  1300.00  9.900000e+04  \n",
       "POBLACION                 0.0     0.00  1.439324e+09  \n",
       "AREA_KM2                  0.0     0.00  1.637687e+07  \n",
       "PROMEDIO_EDAD             0.0     0.00  7.000000e+01  \n",
       "COVERTURA_TERAPIA_VIH     0.0     0.00  9.300000e+01  "
      ]
     },
     "execution_count": 136,
     "metadata": {},
     "output_type": "execute_result"
    }
   ],
   "source": [
    "df_covid_vih_stats = df_covid_vih.describe()\n",
    "df_covid_vih_stats = df_covid_vih_stats.transpose()\n",
    "df_covid_vih_stats"
   ]
  },
  {
   "cell_type": "code",
   "execution_count": 18,
   "id": "e947d3b6",
   "metadata": {},
   "outputs": [
    {
     "data": {
      "text/plain": [
       "<seaborn.axisgrid.PairGrid at 0x1fdc8cb2160>"
      ]
     },
     "execution_count": 18,
     "metadata": {},
     "output_type": "execute_result"
    },
    {
     "data": {
      "image/png": "[encoded data removed]",
      "text/plain": [
       "<Figure size 540x540 with 9 Axes>"
      ]
     },
     "metadata": {
      "needs_background": "light"
     },
     "output_type": "display_data"
    }
   ],
   "source": [
    "sns.pairplot(df_covid_vih[[\"CASOS_COVID\", \"MUERTES_COVID\", \"MUERTES_VIH\"]], diag_kind=\"PAIS\")"
   ]
  },
  {
   "cell_type": "markdown",
   "id": "daa4a383",
   "metadata": {},
   "source": [
    "# CLUSTERING"
   ]
  },
  {
   "cell_type": "code",
   "execution_count": 19,
   "id": "a6658e7f",
   "metadata": {},
   "outputs": [],
   "source": [
    "from scipy.cluster.hierarchy import dendrogram,linkage\n",
    "import numpy as np"
   ]
  },
  {
   "cell_type": "code",
   "execution_count": 142,
   "id": "fa77aaad",
   "metadata": {},
   "outputs": [
    {
     "data": {
      "text/html": [
       "<div>\n",
       "<style scoped>\n",
       "    .dataframe tbody tr th:only-of-type {\n",
       "        vertical-align: middle;\n",
       "    }\n",
       "\n",
       "    .dataframe tbody tr th {\n",
       "        vertical-align: top;\n",
       "    }\n",
       "\n",
       "    .dataframe thead th {\n",
       "        text-align: right;\n",
       "    }\n",
       "</style>\n",
       "<table border=\"1\" class=\"dataframe\">\n",
       "  <thead>\n",
       "    <tr style=\"text-align: right;\">\n",
       "      <th></th>\n",
       "      <th>PAIS</th>\n",
       "      <th>CONTINENTE</th>\n",
       "      <th>PERIODO</th>\n",
       "      <th>CASOS_COVID</th>\n",
       "      <th>MUERTES_COVID</th>\n",
       "      <th>MUERTES_VIH</th>\n",
       "      <th>POBLACION</th>\n",
       "      <th>AREA_KM2</th>\n",
       "      <th>PROMEDIO_EDAD</th>\n",
       "      <th>COVERTURA_TERAPIA_VIH</th>\n",
       "    </tr>\n",
       "  </thead>\n",
       "  <tbody>\n",
       "    <tr>\n",
       "      <th>0</th>\n",
       "      <td>Afghanistan</td>\n",
       "      <td>Asia</td>\n",
       "      <td>2020</td>\n",
       "      <td>49273</td>\n",
       "      <td>1971</td>\n",
       "      <td>540</td>\n",
       "      <td>38928346</td>\n",
       "      <td>652.86</td>\n",
       "      <td>18</td>\n",
       "      <td>9</td>\n",
       "    </tr>\n",
       "    <tr>\n",
       "      <th>1</th>\n",
       "      <td>Albania</td>\n",
       "      <td>Europe</td>\n",
       "      <td>2020</td>\n",
       "      <td>48530</td>\n",
       "      <td>1003</td>\n",
       "      <td>99</td>\n",
       "      <td>2877797</td>\n",
       "      <td>27.40</td>\n",
       "      <td>36</td>\n",
       "      <td>47</td>\n",
       "    </tr>\n",
       "    <tr>\n",
       "      <th>2</th>\n",
       "      <td>Algeria</td>\n",
       "      <td>Africa</td>\n",
       "      <td>2020</td>\n",
       "      <td>92102</td>\n",
       "      <td>2596</td>\n",
       "      <td>350</td>\n",
       "      <td>43851044</td>\n",
       "      <td>2381740.00</td>\n",
       "      <td>29</td>\n",
       "      <td>85</td>\n",
       "    </tr>\n",
       "    <tr>\n",
       "      <th>3</th>\n",
       "      <td>Andorra</td>\n",
       "      <td>Europe</td>\n",
       "      <td>2020</td>\n",
       "      <td>7338</td>\n",
       "      <td>79</td>\n",
       "      <td>0</td>\n",
       "      <td>77265</td>\n",
       "      <td>470.00</td>\n",
       "      <td>46</td>\n",
       "      <td>0</td>\n",
       "    </tr>\n",
       "    <tr>\n",
       "      <th>4</th>\n",
       "      <td>Angola</td>\n",
       "      <td>Africa</td>\n",
       "      <td>2020</td>\n",
       "      <td>16188</td>\n",
       "      <td>371</td>\n",
       "      <td>16000</td>\n",
       "      <td>32866272</td>\n",
       "      <td>1246700.00</td>\n",
       "      <td>17</td>\n",
       "      <td>33</td>\n",
       "    </tr>\n",
       "    <tr>\n",
       "      <th>...</th>\n",
       "      <td>...</td>\n",
       "      <td>...</td>\n",
       "      <td>...</td>\n",
       "      <td>...</td>\n",
       "      <td>...</td>\n",
       "      <td>...</td>\n",
       "      <td>...</td>\n",
       "      <td>...</td>\n",
       "      <td>...</td>\n",
       "      <td>...</td>\n",
       "    </tr>\n",
       "    <tr>\n",
       "      <th>208</th>\n",
       "      <td>Wallis_and_Futuna</td>\n",
       "      <td>Oceania</td>\n",
       "      <td>2020</td>\n",
       "      <td>3</td>\n",
       "      <td>0</td>\n",
       "      <td>0</td>\n",
       "      <td>11239</td>\n",
       "      <td>140.00</td>\n",
       "      <td>34</td>\n",
       "      <td>0</td>\n",
       "    </tr>\n",
       "    <tr>\n",
       "      <th>209</th>\n",
       "      <td>Western_Sahara</td>\n",
       "      <td>Africa</td>\n",
       "      <td>2020</td>\n",
       "      <td>766</td>\n",
       "      <td>1</td>\n",
       "      <td>0</td>\n",
       "      <td>597339</td>\n",
       "      <td>266.00</td>\n",
       "      <td>28</td>\n",
       "      <td>0</td>\n",
       "    </tr>\n",
       "    <tr>\n",
       "      <th>210</th>\n",
       "      <td>Yemen</td>\n",
       "      <td>Asia</td>\n",
       "      <td>2020</td>\n",
       "      <td>2083</td>\n",
       "      <td>606</td>\n",
       "      <td>499</td>\n",
       "      <td>29825964</td>\n",
       "      <td>527.97</td>\n",
       "      <td>20</td>\n",
       "      <td>28</td>\n",
       "    </tr>\n",
       "    <tr>\n",
       "      <th>211</th>\n",
       "      <td>Zambia</td>\n",
       "      <td>Africa</td>\n",
       "      <td>2020</td>\n",
       "      <td>18274</td>\n",
       "      <td>367</td>\n",
       "      <td>24000</td>\n",
       "      <td>18383955</td>\n",
       "      <td>743.39</td>\n",
       "      <td>18</td>\n",
       "      <td>81</td>\n",
       "    </tr>\n",
       "    <tr>\n",
       "      <th>212</th>\n",
       "      <td>Zimbabwe</td>\n",
       "      <td>Africa</td>\n",
       "      <td>2020</td>\n",
       "      <td>11246</td>\n",
       "      <td>307</td>\n",
       "      <td>22000</td>\n",
       "      <td>14862924</td>\n",
       "      <td>386.85</td>\n",
       "      <td>19</td>\n",
       "      <td>93</td>\n",
       "    </tr>\n",
       "  </tbody>\n",
       "</table>\n",
       "<p>213 rows × 10 columns</p>\n",
       "</div>"
      ],
      "text/plain": [
       "                  PAIS CONTINENTE  PERIODO  CASOS_COVID  MUERTES_COVID  \\\n",
       "0          Afghanistan       Asia     2020        49273           1971   \n",
       "1              Albania     Europe     2020        48530           1003   \n",
       "2              Algeria     Africa     2020        92102           2596   \n",
       "3              Andorra     Europe     2020         7338             79   \n",
       "4               Angola     Africa     2020        16188            371   \n",
       "..                 ...        ...      ...          ...            ...   \n",
       "208  Wallis_and_Futuna    Oceania     2020            3              0   \n",
       "209     Western_Sahara     Africa     2020          766              1   \n",
       "210              Yemen       Asia     2020         2083            606   \n",
       "211             Zambia     Africa     2020        18274            367   \n",
       "212           Zimbabwe     Africa     2020        11246            307   \n",
       "\n",
       "     MUERTES_VIH  POBLACION    AREA_KM2  PROMEDIO_EDAD  COVERTURA_TERAPIA_VIH  \n",
       "0            540   38928346      652.86             18                      9  \n",
       "1             99    2877797       27.40             36                     47  \n",
       "2            350   43851044  2381740.00             29                     85  \n",
       "3              0      77265      470.00             46                      0  \n",
       "4          16000   32866272  1246700.00             17                     33  \n",
       "..           ...        ...         ...            ...                    ...  \n",
       "208            0      11239      140.00             34                      0  \n",
       "209            0     597339      266.00             28                      0  \n",
       "210          499   29825964      527.97             20                     28  \n",
       "211        24000   18383955      743.39             18                     81  \n",
       "212        22000   14862924      386.85             19                     93  \n",
       "\n",
       "[213 rows x 10 columns]"
      ]
     },
     "execution_count": 142,
     "metadata": {},
     "output_type": "execute_result"
    }
   ],
   "source": [
    "df_covid_vih_2020 = df_covid_vih[df_covid_vih['PERIODO']==2020]\n",
    "df_covid_vih_2020"
   ]
  },
  {
   "cell_type": "code",
   "execution_count": 143,
   "id": "5d0e8f24",
   "metadata": {},
   "outputs": [
    {
     "data": {
      "text/html": [
       "<div>\n",
       "<style scoped>\n",
       "    .dataframe tbody tr th:only-of-type {\n",
       "        vertical-align: middle;\n",
       "    }\n",
       "\n",
       "    .dataframe tbody tr th {\n",
       "        vertical-align: top;\n",
       "    }\n",
       "\n",
       "    .dataframe thead th {\n",
       "        text-align: right;\n",
       "    }\n",
       "</style>\n",
       "<table border=\"1\" class=\"dataframe\">\n",
       "  <thead>\n",
       "    <tr style=\"text-align: right;\">\n",
       "      <th></th>\n",
       "      <th>count</th>\n",
       "      <th>mean</th>\n",
       "      <th>std</th>\n",
       "      <th>min</th>\n",
       "      <th>25%</th>\n",
       "      <th>50%</th>\n",
       "      <th>75%</th>\n",
       "      <th>max</th>\n",
       "    </tr>\n",
       "  </thead>\n",
       "  <tbody>\n",
       "    <tr>\n",
       "      <th>PERIODO</th>\n",
       "      <td>213.0</td>\n",
       "      <td>2.020000e+03</td>\n",
       "      <td>0.000000e+00</td>\n",
       "      <td>2020.00</td>\n",
       "      <td>2020.0</td>\n",
       "      <td>2020.00</td>\n",
       "      <td>2020.00</td>\n",
       "      <td>2.020000e+03</td>\n",
       "    </tr>\n",
       "    <tr>\n",
       "      <th>CASOS_COVID</th>\n",
       "      <td>213.0</td>\n",
       "      <td>3.356943e+05</td>\n",
       "      <td>1.419300e+06</td>\n",
       "      <td>1.00</td>\n",
       "      <td>1947.0</td>\n",
       "      <td>17638.00</td>\n",
       "      <td>147150.00</td>\n",
       "      <td>1.625675e+07</td>\n",
       "    </tr>\n",
       "    <tr>\n",
       "      <th>MUERTES_COVID</th>\n",
       "      <td>213.0</td>\n",
       "      <td>7.571953e+03</td>\n",
       "      <td>2.847139e+04</td>\n",
       "      <td>0.00</td>\n",
       "      <td>35.0</td>\n",
       "      <td>273.00</td>\n",
       "      <td>2552.00</td>\n",
       "      <td>2.991770e+05</td>\n",
       "    </tr>\n",
       "    <tr>\n",
       "      <th>MUERTES_VIH</th>\n",
       "      <td>213.0</td>\n",
       "      <td>2.816479e+03</td>\n",
       "      <td>8.580443e+03</td>\n",
       "      <td>0.00</td>\n",
       "      <td>0.0</td>\n",
       "      <td>99.00</td>\n",
       "      <td>1100.00</td>\n",
       "      <td>8.300000e+04</td>\n",
       "    </tr>\n",
       "    <tr>\n",
       "      <th>POBLACION</th>\n",
       "      <td>213.0</td>\n",
       "      <td>3.639588e+07</td>\n",
       "      <td>1.415709e+08</td>\n",
       "      <td>348.00</td>\n",
       "      <td>786552.0</td>\n",
       "      <td>6825445.00</td>\n",
       "      <td>25499884.00</td>\n",
       "      <td>1.439324e+09</td>\n",
       "    </tr>\n",
       "    <tr>\n",
       "      <th>AREA_KM2</th>\n",
       "      <td>213.0</td>\n",
       "      <td>4.744327e+05</td>\n",
       "      <td>1.786603e+06</td>\n",
       "      <td>0.44</td>\n",
       "      <td>62.2</td>\n",
       "      <td>257.67</td>\n",
       "      <td>769.63</td>\n",
       "      <td>1.637687e+07</td>\n",
       "    </tr>\n",
       "    <tr>\n",
       "      <th>PROMEDIO_EDAD</th>\n",
       "      <td>213.0</td>\n",
       "      <td>3.158685e+01</td>\n",
       "      <td>9.502146e+00</td>\n",
       "      <td>15.00</td>\n",
       "      <td>24.0</td>\n",
       "      <td>32.00</td>\n",
       "      <td>40.00</td>\n",
       "      <td>7.000000e+01</td>\n",
       "    </tr>\n",
       "    <tr>\n",
       "      <th>COVERTURA_TERAPIA_VIH</th>\n",
       "      <td>213.0</td>\n",
       "      <td>3.823005e+01</td>\n",
       "      <td>3.413387e+01</td>\n",
       "      <td>0.00</td>\n",
       "      <td>0.0</td>\n",
       "      <td>44.00</td>\n",
       "      <td>69.00</td>\n",
       "      <td>9.300000e+01</td>\n",
       "    </tr>\n",
       "  </tbody>\n",
       "</table>\n",
       "</div>"
      ],
      "text/plain": [
       "                       count          mean           std      min       25%  \\\n",
       "PERIODO                213.0  2.020000e+03  0.000000e+00  2020.00    2020.0   \n",
       "CASOS_COVID            213.0  3.356943e+05  1.419300e+06     1.00    1947.0   \n",
       "MUERTES_COVID          213.0  7.571953e+03  2.847139e+04     0.00      35.0   \n",
       "MUERTES_VIH            213.0  2.816479e+03  8.580443e+03     0.00       0.0   \n",
       "POBLACION              213.0  3.639588e+07  1.415709e+08   348.00  786552.0   \n",
       "AREA_KM2               213.0  4.744327e+05  1.786603e+06     0.44      62.2   \n",
       "PROMEDIO_EDAD          213.0  3.158685e+01  9.502146e+00    15.00      24.0   \n",
       "COVERTURA_TERAPIA_VIH  213.0  3.823005e+01  3.413387e+01     0.00       0.0   \n",
       "\n",
       "                              50%          75%           max  \n",
       "PERIODO                   2020.00      2020.00  2.020000e+03  \n",
       "CASOS_COVID              17638.00    147150.00  1.625675e+07  \n",
       "MUERTES_COVID              273.00      2552.00  2.991770e+05  \n",
       "MUERTES_VIH                 99.00      1100.00  8.300000e+04  \n",
       "POBLACION              6825445.00  25499884.00  1.439324e+09  \n",
       "AREA_KM2                   257.67       769.63  1.637687e+07  \n",
       "PROMEDIO_EDAD               32.00        40.00  7.000000e+01  \n",
       "COVERTURA_TERAPIA_VIH       44.00        69.00  9.300000e+01  "
      ]
     },
     "execution_count": 143,
     "metadata": {},
     "output_type": "execute_result"
    }
   ],
   "source": [
    "df_covid_vih_2020 = df_covid_vih_2020.describe()\n",
    "df_covid_vih_2020 = df_covid_vih_2020.transpose()\n",
    "df_covid_vih_2020"
   ]
  },
  {
   "cell_type": "markdown",
   "id": "7ea24c21",
   "metadata": {},
   "source": [
    "Cálculo de la tasa de mortalidad y de la tasa de letalidad.\n",
    "\n",
    "$$ Tasa\\space de\\space Mortalidad = \\frac{Número \\space de\\space fallecidos\\space por\\space Covid}{Población\\space total}*100.000$$\n",
    "\n",
    "$$ Tasa\\space de\\space Letalidad = \\frac{Número \\space de\\space fallecidos\\space por\\space Covid}{Cantidad\\space de\\space contagios\\space de \\space Covid}*100 $$"
   ]
  },
  {
   "cell_type": "code",
   "execution_count": 21,
   "id": "b64c47c0",
   "metadata": {},
   "outputs": [
    {
     "data": {
      "text/html": [
       "<div>\n",
       "<style scoped>\n",
       "    .dataframe tbody tr th:only-of-type {\n",
       "        vertical-align: middle;\n",
       "    }\n",
       "\n",
       "    .dataframe tbody tr th {\n",
       "        vertical-align: top;\n",
       "    }\n",
       "\n",
       "    .dataframe thead th {\n",
       "        text-align: right;\n",
       "    }\n",
       "</style>\n",
       "<table border=\"1\" class=\"dataframe\">\n",
       "  <thead>\n",
       "    <tr style=\"text-align: right;\">\n",
       "      <th></th>\n",
       "      <th>PAIS</th>\n",
       "      <th>CONTINENTE</th>\n",
       "      <th>PERIODO</th>\n",
       "      <th>CASOS_COVID</th>\n",
       "      <th>MUERTES_COVID</th>\n",
       "      <th>MUERTES_VIH</th>\n",
       "      <th>POBLACION</th>\n",
       "      <th>AREA_KM2</th>\n",
       "      <th>PROMEDIO_EDAD</th>\n",
       "      <th>COVERTURA_TERAPIA_VIH</th>\n",
       "      <th>TASA_LETALIDAD</th>\n",
       "      <th>TASA_MORTALIDAD</th>\n",
       "    </tr>\n",
       "  </thead>\n",
       "  <tbody>\n",
       "    <tr>\n",
       "      <th>0</th>\n",
       "      <td>Afghanistan</td>\n",
       "      <td>Asia</td>\n",
       "      <td>2020</td>\n",
       "      <td>49273</td>\n",
       "      <td>1971</td>\n",
       "      <td>540</td>\n",
       "      <td>38928346</td>\n",
       "      <td>652.86</td>\n",
       "      <td>18</td>\n",
       "      <td>9</td>\n",
       "      <td>4.000162</td>\n",
       "      <td>5.063149</td>\n",
       "    </tr>\n",
       "    <tr>\n",
       "      <th>1</th>\n",
       "      <td>Albania</td>\n",
       "      <td>Europe</td>\n",
       "      <td>2020</td>\n",
       "      <td>48530</td>\n",
       "      <td>1003</td>\n",
       "      <td>99</td>\n",
       "      <td>2877797</td>\n",
       "      <td>27.40</td>\n",
       "      <td>36</td>\n",
       "      <td>47</td>\n",
       "      <td>2.066763</td>\n",
       "      <td>34.853049</td>\n",
       "    </tr>\n",
       "    <tr>\n",
       "      <th>2</th>\n",
       "      <td>Algeria</td>\n",
       "      <td>Africa</td>\n",
       "      <td>2020</td>\n",
       "      <td>92102</td>\n",
       "      <td>2596</td>\n",
       "      <td>350</td>\n",
       "      <td>43851044</td>\n",
       "      <td>2381740.00</td>\n",
       "      <td>29</td>\n",
       "      <td>85</td>\n",
       "      <td>2.818614</td>\n",
       "      <td>5.920041</td>\n",
       "    </tr>\n",
       "    <tr>\n",
       "      <th>3</th>\n",
       "      <td>Andorra</td>\n",
       "      <td>Europe</td>\n",
       "      <td>2020</td>\n",
       "      <td>7338</td>\n",
       "      <td>79</td>\n",
       "      <td>0</td>\n",
       "      <td>77265</td>\n",
       "      <td>470.00</td>\n",
       "      <td>46</td>\n",
       "      <td>0</td>\n",
       "      <td>1.076588</td>\n",
       "      <td>102.245519</td>\n",
       "    </tr>\n",
       "    <tr>\n",
       "      <th>4</th>\n",
       "      <td>Angola</td>\n",
       "      <td>Africa</td>\n",
       "      <td>2020</td>\n",
       "      <td>16188</td>\n",
       "      <td>371</td>\n",
       "      <td>16000</td>\n",
       "      <td>32866272</td>\n",
       "      <td>1246700.00</td>\n",
       "      <td>17</td>\n",
       "      <td>33</td>\n",
       "      <td>2.291821</td>\n",
       "      <td>1.128817</td>\n",
       "    </tr>\n",
       "    <tr>\n",
       "      <th>...</th>\n",
       "      <td>...</td>\n",
       "      <td>...</td>\n",
       "      <td>...</td>\n",
       "      <td>...</td>\n",
       "      <td>...</td>\n",
       "      <td>...</td>\n",
       "      <td>...</td>\n",
       "      <td>...</td>\n",
       "      <td>...</td>\n",
       "      <td>...</td>\n",
       "      <td>...</td>\n",
       "      <td>...</td>\n",
       "    </tr>\n",
       "    <tr>\n",
       "      <th>208</th>\n",
       "      <td>Wallis_and_Futuna</td>\n",
       "      <td>Oceania</td>\n",
       "      <td>2020</td>\n",
       "      <td>3</td>\n",
       "      <td>0</td>\n",
       "      <td>0</td>\n",
       "      <td>11239</td>\n",
       "      <td>140.00</td>\n",
       "      <td>34</td>\n",
       "      <td>0</td>\n",
       "      <td>0.000000</td>\n",
       "      <td>0.000000</td>\n",
       "    </tr>\n",
       "    <tr>\n",
       "      <th>209</th>\n",
       "      <td>Western_Sahara</td>\n",
       "      <td>Africa</td>\n",
       "      <td>2020</td>\n",
       "      <td>766</td>\n",
       "      <td>1</td>\n",
       "      <td>0</td>\n",
       "      <td>597339</td>\n",
       "      <td>266.00</td>\n",
       "      <td>28</td>\n",
       "      <td>0</td>\n",
       "      <td>0.130548</td>\n",
       "      <td>0.167409</td>\n",
       "    </tr>\n",
       "    <tr>\n",
       "      <th>210</th>\n",
       "      <td>Yemen</td>\n",
       "      <td>Asia</td>\n",
       "      <td>2020</td>\n",
       "      <td>2083</td>\n",
       "      <td>606</td>\n",
       "      <td>499</td>\n",
       "      <td>29825964</td>\n",
       "      <td>527.97</td>\n",
       "      <td>20</td>\n",
       "      <td>28</td>\n",
       "      <td>29.092655</td>\n",
       "      <td>2.031787</td>\n",
       "    </tr>\n",
       "    <tr>\n",
       "      <th>211</th>\n",
       "      <td>Zambia</td>\n",
       "      <td>Africa</td>\n",
       "      <td>2020</td>\n",
       "      <td>18274</td>\n",
       "      <td>367</td>\n",
       "      <td>24000</td>\n",
       "      <td>18383955</td>\n",
       "      <td>743.39</td>\n",
       "      <td>18</td>\n",
       "      <td>81</td>\n",
       "      <td>2.008318</td>\n",
       "      <td>1.996306</td>\n",
       "    </tr>\n",
       "    <tr>\n",
       "      <th>212</th>\n",
       "      <td>Zimbabwe</td>\n",
       "      <td>Africa</td>\n",
       "      <td>2020</td>\n",
       "      <td>11246</td>\n",
       "      <td>307</td>\n",
       "      <td>22000</td>\n",
       "      <td>14862924</td>\n",
       "      <td>386.85</td>\n",
       "      <td>19</td>\n",
       "      <td>93</td>\n",
       "      <td>2.729860</td>\n",
       "      <td>2.065542</td>\n",
       "    </tr>\n",
       "  </tbody>\n",
       "</table>\n",
       "<p>213 rows × 12 columns</p>\n",
       "</div>"
      ],
      "text/plain": [
       "                  PAIS CONTINENTE  PERIODO  CASOS_COVID  MUERTES_COVID  \\\n",
       "0          Afghanistan       Asia     2020        49273           1971   \n",
       "1              Albania     Europe     2020        48530           1003   \n",
       "2              Algeria     Africa     2020        92102           2596   \n",
       "3              Andorra     Europe     2020         7338             79   \n",
       "4               Angola     Africa     2020        16188            371   \n",
       "..                 ...        ...      ...          ...            ...   \n",
       "208  Wallis_and_Futuna    Oceania     2020            3              0   \n",
       "209     Western_Sahara     Africa     2020          766              1   \n",
       "210              Yemen       Asia     2020         2083            606   \n",
       "211             Zambia     Africa     2020        18274            367   \n",
       "212           Zimbabwe     Africa     2020        11246            307   \n",
       "\n",
       "     MUERTES_VIH  POBLACION    AREA_KM2  PROMEDIO_EDAD  COVERTURA_TERAPIA_VIH  \\\n",
       "0            540   38928346      652.86             18                      9   \n",
       "1             99    2877797       27.40             36                     47   \n",
       "2            350   43851044  2381740.00             29                     85   \n",
       "3              0      77265      470.00             46                      0   \n",
       "4          16000   32866272  1246700.00             17                     33   \n",
       "..           ...        ...         ...            ...                    ...   \n",
       "208            0      11239      140.00             34                      0   \n",
       "209            0     597339      266.00             28                      0   \n",
       "210          499   29825964      527.97             20                     28   \n",
       "211        24000   18383955      743.39             18                     81   \n",
       "212        22000   14862924      386.85             19                     93   \n",
       "\n",
       "     TASA_LETALIDAD  TASA_MORTALIDAD  \n",
       "0          4.000162         5.063149  \n",
       "1          2.066763        34.853049  \n",
       "2          2.818614         5.920041  \n",
       "3          1.076588       102.245519  \n",
       "4          2.291821         1.128817  \n",
       "..              ...              ...  \n",
       "208        0.000000         0.000000  \n",
       "209        0.130548         0.167409  \n",
       "210       29.092655         2.031787  \n",
       "211        2.008318         1.996306  \n",
       "212        2.729860         2.065542  \n",
       "\n",
       "[213 rows x 12 columns]"
      ]
     },
     "execution_count": 21,
     "metadata": {},
     "output_type": "execute_result"
    }
   ],
   "source": [
    "df_covid_vih_2020 = df_covid_vih_2020.assign(TASA_LETALIDAD = 100*(df_covid_vih_2020['MUERTES_COVID']/df_covid_vih_2020['CASOS_COVID']),\n",
    "                                             TASA_MORTALIDAD = 100000*(df_covid_vih_2020['MUERTES_COVID']/df_covid_vih_2020['POBLACION']))\n",
    "df_covid_vih_2020"
   ]
  },
  {
   "cell_type": "markdown",
   "id": "c7e34935",
   "metadata": {},
   "source": [
    "### Normalización"
   ]
  },
  {
   "cell_type": "code",
   "execution_count": 22,
   "id": "1226aa50",
   "metadata": {},
   "outputs": [
    {
     "data": {
      "text/html": [
       "<div>\n",
       "<style scoped>\n",
       "    .dataframe tbody tr th:only-of-type {\n",
       "        vertical-align: middle;\n",
       "    }\n",
       "\n",
       "    .dataframe tbody tr th {\n",
       "        vertical-align: top;\n",
       "    }\n",
       "\n",
       "    .dataframe thead th {\n",
       "        text-align: right;\n",
       "    }\n",
       "</style>\n",
       "<table border=\"1\" class=\"dataframe\">\n",
       "  <thead>\n",
       "    <tr style=\"text-align: right;\">\n",
       "      <th></th>\n",
       "      <th>TASA_LETALIDAD</th>\n",
       "      <th>TASA_MORTALIDAD</th>\n",
       "      <th>AREA_KM2</th>\n",
       "      <th>PROMEDIO_EDAD</th>\n",
       "    </tr>\n",
       "  </thead>\n",
       "  <tbody>\n",
       "    <tr>\n",
       "      <th>208</th>\n",
       "      <td>-0.818729</td>\n",
       "      <td>-0.124727</td>\n",
       "      <td>-0.266097</td>\n",
       "      <td>0.254556</td>\n",
       "    </tr>\n",
       "    <tr>\n",
       "      <th>209</th>\n",
       "      <td>-0.764071</td>\n",
       "      <td>-0.124330</td>\n",
       "      <td>-0.266027</td>\n",
       "      <td>-0.378368</td>\n",
       "    </tr>\n",
       "    <tr>\n",
       "      <th>210</th>\n",
       "      <td>11.361975</td>\n",
       "      <td>-0.119908</td>\n",
       "      <td>-0.265880</td>\n",
       "      <td>-1.222266</td>\n",
       "    </tr>\n",
       "    <tr>\n",
       "      <th>211</th>\n",
       "      <td>0.022126</td>\n",
       "      <td>-0.119992</td>\n",
       "      <td>-0.265759</td>\n",
       "      <td>-1.433241</td>\n",
       "    </tr>\n",
       "    <tr>\n",
       "      <th>212</th>\n",
       "      <td>0.324226</td>\n",
       "      <td>-0.119828</td>\n",
       "      <td>-0.265959</td>\n",
       "      <td>-1.327753</td>\n",
       "    </tr>\n",
       "  </tbody>\n",
       "</table>\n",
       "</div>"
      ],
      "text/plain": [
       "     TASA_LETALIDAD  TASA_MORTALIDAD  AREA_KM2  PROMEDIO_EDAD\n",
       "208       -0.818729        -0.124727 -0.266097       0.254556\n",
       "209       -0.764071        -0.124330 -0.266027      -0.378368\n",
       "210       11.361975        -0.119908 -0.265880      -1.222266\n",
       "211        0.022126        -0.119992 -0.265759      -1.433241\n",
       "212        0.324226        -0.119828 -0.265959      -1.327753"
      ]
     },
     "execution_count": 22,
     "metadata": {},
     "output_type": "execute_result"
    }
   ],
   "source": [
    "from sklearn import preprocessing\n",
    "\n",
    "data_2020 = pd.DataFrame(df_covid_vih_2020, columns = ['TASA_LETALIDAD', 'TASA_MORTALIDAD','AREA_KM2', 'PROMEDIO_EDAD'])\n",
    "data_sd = preprocessing.scale(data_2020)\n",
    "data_sd = pd.DataFrame(data_sd, columns = ['TASA_LETALIDAD', 'TASA_MORTALIDAD', 'AREA_KM2', 'PROMEDIO_EDAD'])\n",
    "\n",
    "#data_sd['PAIS'] = df_covid_vih_2020['PAIS'] # Se adiciona la columna PAIS en el dataframe normalizado, para conservar la relacion entre el indice y el nombre del pais\n",
    "data_sd.tail()"
   ]
  },
  {
   "cell_type": "markdown",
   "id": "0e10896d",
   "metadata": {},
   "source": [
    "### Eliminacion de outliers\n",
    "\n",
    "Se muestran varias graficas de dispersion, con el fin de detectar outliers en los datos."
   ]
  },
  {
   "cell_type": "code",
   "execution_count": 23,
   "id": "4a19f037",
   "metadata": {},
   "outputs": [
    {
     "data": {
      "image/png": "[encoded data removed]",
      "text/plain": [
       "<Figure size 432x288 with 1 Axes>"
      ]
     },
     "metadata": {
      "needs_background": "light"
     },
     "output_type": "display_data"
    }
   ],
   "source": [
    "plt.scatter(data_sd['AREA_KM2'], data_sd['TASA_MORTALIDAD'])\n",
    "plt.xlabel('AREA_KM2')\n",
    "plt.ylabel('TASA_MORTALIDAD')\n",
    "plt.show()"
   ]
  },
  {
   "cell_type": "code",
   "execution_count": 24,
   "id": "e00f14e0",
   "metadata": {},
   "outputs": [
    {
     "data": {
      "image/png": "[encoded data removed]",
      "text/plain": [
       "<Figure size 432x288 with 1 Axes>"
      ]
     },
     "metadata": {
      "needs_background": "light"
     },
     "output_type": "display_data"
    }
   ],
   "source": [
    "plt.scatter(data_sd['AREA_KM2'], data_sd['TASA_LETALIDAD'])\n",
    "plt.xlabel('AREA_KM2')\n",
    "plt.ylabel('TASA_LETALIDAD')\n",
    "plt.show()"
   ]
  },
  {
   "cell_type": "markdown",
   "id": "4a564167",
   "metadata": {},
   "source": [
    "Se define una funcion para la eliminacion de outlier con base en los parametros de la media y desviacion tipica muestral."
   ]
  },
  {
   "cell_type": "code",
   "execution_count": 25,
   "id": "cef9a18e",
   "metadata": {},
   "outputs": [],
   "source": [
    "def drop_outliers_of_col(serie):\n",
    "    mean = np.mean(serie)\n",
    "    std = np.std(serie)\n",
    "    \n",
    "    max_val = mean + 3*std\n",
    "    min_val = mean - 3*std\n",
    "    \n",
    "    max_cond = serie <= max_val\n",
    "    min_cond = serie >= min_val\n",
    "    \n",
    "    return max_cond & min_cond"
   ]
  },
  {
   "cell_type": "code",
   "execution_count": 26,
   "id": "36147b20",
   "metadata": {},
   "outputs": [
    {
     "data": {
      "text/plain": [
       "(211, 4)"
      ]
     },
     "execution_count": 26,
     "metadata": {},
     "output_type": "execute_result"
    }
   ],
   "source": [
    "data_sd_no_out = data_sd\n",
    "\n",
    "cond = drop_outliers_of_col(data_sd_no_out['TASA_MORTALIDAD'])\n",
    "data_sd_no_out = data_sd_no_out.loc[cond]\n",
    "\n",
    "cond = drop_outliers_of_col(data_sd_no_out['TASA_LETALIDAD'])\n",
    "data_sd_no_out = data_sd_no_out.loc[cond]\n",
    "\n",
    "data_sd_no_out.shape"
   ]
  },
  {
   "cell_type": "markdown",
   "id": "7bded816",
   "metadata": {},
   "source": [
    "Se observa que el nuevo dataframe \"data_sd_no_out\", sobre el cual se aplico la eliminacion de outliers, presenta 211 observaciones, dos menos que el dataframe original.\n",
    "\n",
    "Se muestran nuevamente las graficas de dispersion con los outliers eliminados."
   ]
  },
  {
   "cell_type": "code",
   "execution_count": 27,
   "id": "9adbcb1d",
   "metadata": {},
   "outputs": [
    {
     "data": {
      "image/png": "[encoded data removed]",
      "text/plain": [
       "<Figure size 432x288 with 1 Axes>"
      ]
     },
     "metadata": {
      "needs_background": "light"
     },
     "output_type": "display_data"
    }
   ],
   "source": [
    "plt.scatter(data_sd_no_out['AREA_KM2'], data_sd_no_out['TASA_MORTALIDAD'])\n",
    "plt.title('Variable TASA_MORTALIDAD sin Outliers ')\n",
    "plt.xlabel('AREA_KM2')\n",
    "plt.ylabel('TASA_MORTALIDAD')\n",
    "plt.show()"
   ]
  },
  {
   "cell_type": "code",
   "execution_count": 28,
   "id": "adba32d2",
   "metadata": {},
   "outputs": [
    {
     "data": {
      "image/png": "[encoded data removed]",
      "text/plain": [
       "<Figure size 432x288 with 1 Axes>"
      ]
     },
     "metadata": {
      "needs_background": "light"
     },
     "output_type": "display_data"
    }
   ],
   "source": [
    "plt.scatter(data_sd_no_out['AREA_KM2'], data_sd_no_out['TASA_LETALIDAD'])\n",
    "plt.title('Variable TASA_LETALIDAD sin Outliers ')\n",
    "plt.xlabel('AREA_KM2')\n",
    "plt.ylabel('TASA_LETALIDAD')\n",
    "plt.show()"
   ]
  },
  {
   "cell_type": "code",
   "execution_count": 29,
   "id": "a0765d33",
   "metadata": {},
   "outputs": [
    {
     "data": {
      "image/png": "[encoded data removed]",
      "text/plain": [
       "<Figure size 432x288 with 1 Axes>"
      ]
     },
     "metadata": {
      "needs_background": "light"
     },
     "output_type": "display_data"
    }
   ],
   "source": [
    "plt.scatter(data_sd_no_out['TASA_LETALIDAD'], data_sd_no_out['TASA_MORTALIDAD'])\n",
    "plt.title('TASA_LETALIDAD vs TASA_MORTALIDAD')\n",
    "plt.xlabel('TASA_LETALIDAD')\n",
    "plt.ylabel('TASA_MORTALIDAD')\n",
    "plt.show()"
   ]
  },
  {
   "cell_type": "markdown",
   "id": "0c1d5f09",
   "metadata": {},
   "source": [
    "A continuacion, se calcula el coeficiente de correlacion cofenetico, el cual resulta de la comparacion entre la distancia cofenetica y la distancia real (matriz de salida de linkage y matriz de salida de pdist). Cuanto mas cercano a la unidad sea el coeficiente, mas preciso sera el clustering."
   ]
  },
  {
   "cell_type": "code",
   "execution_count": 30,
   "id": "701606b2",
   "metadata": {},
   "outputs": [
    {
     "data": {
      "text/plain": [
       "0.6038003651906382"
      ]
     },
     "execution_count": 30,
     "metadata": {},
     "output_type": "execute_result"
    }
   ],
   "source": [
    "from matplotlib import pyplot as plt\n",
    "import scipy.cluster.hierarchy as sch\n",
    "from scipy.cluster.hierarchy import cophenet, fcluster\n",
    "from scipy.spatial.distance import pdist\n",
    "\n",
    "#df_paises = data_sd_no_out.pop(\"PAIS\") # Se elimina la variable categorica PAIS, antes de aplicar el proceso de clustering\n",
    "\n",
    "Z = linkage(data_sd_no_out, \"ward\") # Agrupa las observaciones con base en su similitud. Se seleccionó el método WARD para agrupar los cluster\n",
    "\n",
    "c, coph_dist = cophenet(Z, pdist(data_sd_no_out))\n",
    "c"
   ]
  },
  {
   "cell_type": "code",
   "execution_count": 31,
   "id": "428be036",
   "metadata": {},
   "outputs": [],
   "source": [
    "#Z[:20]"
   ]
  },
  {
   "cell_type": "code",
   "execution_count": 32,
   "id": "6f65b47c",
   "metadata": {},
   "outputs": [],
   "source": [
    "#Z[-10:,]"
   ]
  },
  {
   "cell_type": "markdown",
   "id": "61d08e6e",
   "metadata": {},
   "source": [
    "### Graficando el Dendrograma"
   ]
  },
  {
   "cell_type": "code",
   "execution_count": 33,
   "id": "48266568",
   "metadata": {},
   "outputs": [
    {
     "data": {
      "image/png": "[encoded data removed]",
      "text/plain": [
       "<Figure size 1440x504 with 1 Axes>"
      ]
     },
     "metadata": {
      "needs_background": "light"
     },
     "output_type": "display_data"
    }
   ],
   "source": [
    "plt.figure(figsize=(20,7))\n",
    "plt.title('Dendrograma del Clustering Jerárquico')\n",
    "plt.xlabel('Índices de Países')\n",
    "plt.ylabel('Distancias')\n",
    "dendrogram = sch.dendrogram(Z, leaf_rotation=90., leaf_font_size=8.0,)\n",
    "plt.show()"
   ]
  },
  {
   "cell_type": "code",
   "execution_count": 34,
   "id": "a0b3e608",
   "metadata": {
    "scrolled": true
   },
   "outputs": [
    {
     "data": {
      "text/plain": [
       "{1, 2, 3}"
      ]
     },
     "execution_count": 34,
     "metadata": {},
     "output_type": "execute_result"
    }
   ],
   "source": [
    "clusters = fcluster(Z, t=10, criterion=\"distance\") # donde t es la altura a la cual se realiza el corte al dendograma para que se definan los tres clusters\n",
    "set(clusters)\n",
    "#print(assignments)"
   ]
  },
  {
   "cell_type": "markdown",
   "id": "af9bc6cd",
   "metadata": {},
   "source": [
    "Se adiciona la etiqueta de pertenencia del cluster al dataframe sin outliers"
   ]
  },
  {
   "cell_type": "code",
   "execution_count": 35,
   "id": "b62a5419",
   "metadata": {
    "scrolled": true
   },
   "outputs": [
    {
     "data": {
      "text/html": [
       "<div>\n",
       "<style scoped>\n",
       "    .dataframe tbody tr th:only-of-type {\n",
       "        vertical-align: middle;\n",
       "    }\n",
       "\n",
       "    .dataframe tbody tr th {\n",
       "        vertical-align: top;\n",
       "    }\n",
       "\n",
       "    .dataframe thead th {\n",
       "        text-align: right;\n",
       "    }\n",
       "</style>\n",
       "<table border=\"1\" class=\"dataframe\">\n",
       "  <thead>\n",
       "    <tr style=\"text-align: right;\">\n",
       "      <th></th>\n",
       "      <th>TASA_LETALIDAD</th>\n",
       "      <th>TASA_MORTALIDAD</th>\n",
       "      <th>AREA_KM2</th>\n",
       "      <th>PROMEDIO_EDAD</th>\n",
       "      <th>NUMERO_CLUSTER</th>\n",
       "    </tr>\n",
       "  </thead>\n",
       "  <tbody>\n",
       "    <tr>\n",
       "      <th>0</th>\n",
       "      <td>0.856085</td>\n",
       "      <td>-0.112718</td>\n",
       "      <td>-0.265809</td>\n",
       "      <td>-1.433241</td>\n",
       "      <td>2</td>\n",
       "    </tr>\n",
       "    <tr>\n",
       "      <th>1</th>\n",
       "      <td>0.046596</td>\n",
       "      <td>-0.042064</td>\n",
       "      <td>-0.266160</td>\n",
       "      <td>0.465531</td>\n",
       "      <td>3</td>\n",
       "    </tr>\n",
       "    <tr>\n",
       "      <th>2</th>\n",
       "      <td>0.361386</td>\n",
       "      <td>-0.110686</td>\n",
       "      <td>1.070076</td>\n",
       "      <td>-0.272880</td>\n",
       "      <td>3</td>\n",
       "    </tr>\n",
       "    <tr>\n",
       "      <th>3</th>\n",
       "      <td>-0.367977</td>\n",
       "      <td>0.117775</td>\n",
       "      <td>-0.265912</td>\n",
       "      <td>1.520404</td>\n",
       "      <td>3</td>\n",
       "    </tr>\n",
       "    <tr>\n",
       "      <th>4</th>\n",
       "      <td>0.140825</td>\n",
       "      <td>-0.122049</td>\n",
       "      <td>0.433273</td>\n",
       "      <td>-1.538728</td>\n",
       "      <td>2</td>\n",
       "    </tr>\n",
       "  </tbody>\n",
       "</table>\n",
       "</div>"
      ],
      "text/plain": [
       "   TASA_LETALIDAD  TASA_MORTALIDAD  AREA_KM2  PROMEDIO_EDAD  NUMERO_CLUSTER\n",
       "0        0.856085        -0.112718 -0.265809      -1.433241               2\n",
       "1        0.046596        -0.042064 -0.266160       0.465531               3\n",
       "2        0.361386        -0.110686  1.070076      -0.272880               3\n",
       "3       -0.367977         0.117775 -0.265912       1.520404               3\n",
       "4        0.140825        -0.122049  0.433273      -1.538728               2"
      ]
     },
     "execution_count": 35,
     "metadata": {},
     "output_type": "execute_result"
    }
   ],
   "source": [
    "data_sd_no_out['NUMERO_CLUSTER'] = clusters\n",
    "data_sd_no_out.head()\n",
    "#data_sd_no_out.tail()"
   ]
  },
  {
   "cell_type": "code",
   "execution_count": 36,
   "id": "67e07695",
   "metadata": {},
   "outputs": [
    {
     "data": {
      "text/plain": [
       "(211, 5)"
      ]
     },
     "execution_count": 36,
     "metadata": {},
     "output_type": "execute_result"
    }
   ],
   "source": [
    "data_sd_no_out.shape"
   ]
  },
  {
   "cell_type": "markdown",
   "id": "2f658fbf",
   "metadata": {},
   "source": [
    "Se realizan los calculos de metricas descriptivas de los datos, discriminando el cluster al cual pertenecen, con el fin de identificar el grupo que presento la situacion mas critica respecto de la situacion generada por el COVID.  "
   ]
  },
  {
   "cell_type": "markdown",
   "id": "48c25024",
   "metadata": {},
   "source": [
    "### Datos para el cluster 1"
   ]
  },
  {
   "cell_type": "code",
   "execution_count": 37,
   "id": "6b1eacc9",
   "metadata": {},
   "outputs": [
    {
     "data": {
      "text/html": [
       "<div>\n",
       "<style scoped>\n",
       "    .dataframe tbody tr th:only-of-type {\n",
       "        vertical-align: middle;\n",
       "    }\n",
       "\n",
       "    .dataframe tbody tr th {\n",
       "        vertical-align: top;\n",
       "    }\n",
       "\n",
       "    .dataframe thead th {\n",
       "        text-align: right;\n",
       "    }\n",
       "</style>\n",
       "<table border=\"1\" class=\"dataframe\">\n",
       "  <thead>\n",
       "    <tr style=\"text-align: right;\">\n",
       "      <th></th>\n",
       "      <th>TASA_LETALIDAD</th>\n",
       "      <th>TASA_MORTALIDAD</th>\n",
       "      <th>AREA_KM2</th>\n",
       "      <th>PROMEDIO_EDAD</th>\n",
       "      <th>NUMERO_CLUSTER</th>\n",
       "    </tr>\n",
       "  </thead>\n",
       "  <tbody>\n",
       "    <tr>\n",
       "      <th>10</th>\n",
       "      <td>0.537510</td>\n",
       "      <td>-0.116281</td>\n",
       "      <td>4.043902</td>\n",
       "      <td>0.676505</td>\n",
       "      <td>1</td>\n",
       "    </tr>\n",
       "    <tr>\n",
       "      <th>27</th>\n",
       "      <td>0.281692</td>\n",
       "      <td>0.077683</td>\n",
       "      <td>4.423076</td>\n",
       "      <td>0.149069</td>\n",
       "      <td>1</td>\n",
       "    </tr>\n",
       "    <tr>\n",
       "      <th>35</th>\n",
       "      <td>0.401773</td>\n",
       "      <td>-0.040325</td>\n",
       "      <td>4.835648</td>\n",
       "      <td>0.992967</td>\n",
       "      <td>1</td>\n",
       "    </tr>\n",
       "    <tr>\n",
       "      <th>41</th>\n",
       "      <td>1.338102</td>\n",
       "      <td>-0.123946</td>\n",
       "      <td>5.000987</td>\n",
       "      <td>0.676505</td>\n",
       "      <td>1</td>\n",
       "    </tr>\n",
       "    <tr>\n",
       "      <th>159</th>\n",
       "      <td>-0.078183</td>\n",
       "      <td>-0.048437</td>\n",
       "      <td>8.921905</td>\n",
       "      <td>0.887480</td>\n",
       "      <td>1</td>\n",
       "    </tr>\n",
       "    <tr>\n",
       "      <th>201</th>\n",
       "      <td>-0.048210</td>\n",
       "      <td>0.089644</td>\n",
       "      <td>4.865894</td>\n",
       "      <td>0.676505</td>\n",
       "      <td>1</td>\n",
       "    </tr>\n",
       "  </tbody>\n",
       "</table>\n",
       "</div>"
      ],
      "text/plain": [
       "     TASA_LETALIDAD  TASA_MORTALIDAD  AREA_KM2  PROMEDIO_EDAD  NUMERO_CLUSTER\n",
       "10         0.537510        -0.116281  4.043902       0.676505               1\n",
       "27         0.281692         0.077683  4.423076       0.149069               1\n",
       "35         0.401773        -0.040325  4.835648       0.992967               1\n",
       "41         1.338102        -0.123946  5.000987       0.676505               1\n",
       "159       -0.078183        -0.048437  8.921905       0.887480               1\n",
       "201       -0.048210         0.089644  4.865894       0.676505               1"
      ]
     },
     "execution_count": 37,
     "metadata": {},
     "output_type": "execute_result"
    }
   ],
   "source": [
    "cluster_1 = data_sd_no_out.loc[data_sd_no_out.loc[:, 'NUMERO_CLUSTER'] == 1]\n",
    "cluster_1"
   ]
  },
  {
   "cell_type": "markdown",
   "id": "d97ee41e",
   "metadata": {},
   "source": [
    "En este punto se recuperan los datos del dataframe original para poder interpretar las metricas calculadas."
   ]
  },
  {
   "cell_type": "code",
   "execution_count": 38,
   "id": "527c581a",
   "metadata": {},
   "outputs": [
    {
     "data": {
      "text/html": [
       "<div>\n",
       "<style scoped>\n",
       "    .dataframe tbody tr th:only-of-type {\n",
       "        vertical-align: middle;\n",
       "    }\n",
       "\n",
       "    .dataframe tbody tr th {\n",
       "        vertical-align: top;\n",
       "    }\n",
       "\n",
       "    .dataframe thead th {\n",
       "        text-align: right;\n",
       "    }\n",
       "</style>\n",
       "<table border=\"1\" class=\"dataframe\">\n",
       "  <thead>\n",
       "    <tr style=\"text-align: right;\">\n",
       "      <th></th>\n",
       "      <th>PAIS</th>\n",
       "      <th>CONTINENTE</th>\n",
       "      <th>PERIODO</th>\n",
       "      <th>CASOS_COVID</th>\n",
       "      <th>MUERTES_COVID</th>\n",
       "      <th>MUERTES_VIH</th>\n",
       "      <th>POBLACION</th>\n",
       "      <th>AREA_KM2</th>\n",
       "      <th>PROMEDIO_EDAD</th>\n",
       "      <th>COVERTURA_TERAPIA_VIH</th>\n",
       "      <th>TASA_LETALIDAD</th>\n",
       "      <th>TASA_MORTALIDAD</th>\n",
       "    </tr>\n",
       "  </thead>\n",
       "  <tbody>\n",
       "    <tr>\n",
       "      <th>10</th>\n",
       "      <td>Australia</td>\n",
       "      <td>Oceania</td>\n",
       "      <td>2020</td>\n",
       "      <td>28031</td>\n",
       "      <td>908</td>\n",
       "      <td>99</td>\n",
       "      <td>25499884</td>\n",
       "      <td>7682300.0</td>\n",
       "      <td>38</td>\n",
       "      <td>85</td>\n",
       "      <td>3.239271</td>\n",
       "      <td>3.560801</td>\n",
       "    </tr>\n",
       "    <tr>\n",
       "      <th>27</th>\n",
       "      <td>Brazil</td>\n",
       "      <td>America</td>\n",
       "      <td>2020</td>\n",
       "      <td>6901952</td>\n",
       "      <td>181402</td>\n",
       "      <td>13000</td>\n",
       "      <td>212559417</td>\n",
       "      <td>8358140.0</td>\n",
       "      <td>33</td>\n",
       "      <td>70</td>\n",
       "      <td>2.628271</td>\n",
       "      <td>85.341785</td>\n",
       "    </tr>\n",
       "    <tr>\n",
       "      <th>35</th>\n",
       "      <td>Canada</td>\n",
       "      <td>America</td>\n",
       "      <td>2020</td>\n",
       "      <td>460743</td>\n",
       "      <td>13431</td>\n",
       "      <td>0</td>\n",
       "      <td>37742154</td>\n",
       "      <td>9093510.0</td>\n",
       "      <td>41</td>\n",
       "      <td>73</td>\n",
       "      <td>2.915074</td>\n",
       "      <td>35.586204</td>\n",
       "    </tr>\n",
       "    <tr>\n",
       "      <th>41</th>\n",
       "      <td>China</td>\n",
       "      <td>Asia</td>\n",
       "      <td>2020</td>\n",
       "      <td>91994</td>\n",
       "      <td>4739</td>\n",
       "      <td>0</td>\n",
       "      <td>1439323776</td>\n",
       "      <td>9388211.0</td>\n",
       "      <td>38</td>\n",
       "      <td>0</td>\n",
       "      <td>5.151423</td>\n",
       "      <td>0.329252</td>\n",
       "    </tr>\n",
       "    <tr>\n",
       "      <th>159</th>\n",
       "      <td>Russia</td>\n",
       "      <td>Europe</td>\n",
       "      <td>2020</td>\n",
       "      <td>2653928</td>\n",
       "      <td>46941</td>\n",
       "      <td>0</td>\n",
       "      <td>145934462</td>\n",
       "      <td>16376870.0</td>\n",
       "      <td>40</td>\n",
       "      <td>0</td>\n",
       "      <td>1.768737</td>\n",
       "      <td>32.165809</td>\n",
       "    </tr>\n",
       "    <tr>\n",
       "      <th>201</th>\n",
       "      <td>United_States_of_America</td>\n",
       "      <td>America</td>\n",
       "      <td>2020</td>\n",
       "      <td>16256754</td>\n",
       "      <td>299177</td>\n",
       "      <td>0</td>\n",
       "      <td>331002651</td>\n",
       "      <td>9147420.0</td>\n",
       "      <td>38</td>\n",
       "      <td>0</td>\n",
       "      <td>1.840324</td>\n",
       "      <td>90.385077</td>\n",
       "    </tr>\n",
       "  </tbody>\n",
       "</table>\n",
       "</div>"
      ],
      "text/plain": [
       "                         PAIS CONTINENTE  PERIODO  CASOS_COVID  MUERTES_COVID  \\\n",
       "10                  Australia    Oceania     2020        28031            908   \n",
       "27                     Brazil    America     2020      6901952         181402   \n",
       "35                     Canada    America     2020       460743          13431   \n",
       "41                      China       Asia     2020        91994           4739   \n",
       "159                    Russia     Europe     2020      2653928          46941   \n",
       "201  United_States_of_America    America     2020     16256754         299177   \n",
       "\n",
       "     MUERTES_VIH   POBLACION    AREA_KM2  PROMEDIO_EDAD  \\\n",
       "10            99    25499884   7682300.0             38   \n",
       "27         13000   212559417   8358140.0             33   \n",
       "35             0    37742154   9093510.0             41   \n",
       "41             0  1439323776   9388211.0             38   \n",
       "159            0   145934462  16376870.0             40   \n",
       "201            0   331002651   9147420.0             38   \n",
       "\n",
       "     COVERTURA_TERAPIA_VIH  TASA_LETALIDAD  TASA_MORTALIDAD  \n",
       "10                      85        3.239271         3.560801  \n",
       "27                      70        2.628271        85.341785  \n",
       "35                      73        2.915074        35.586204  \n",
       "41                       0        5.151423         0.329252  \n",
       "159                      0        1.768737        32.165809  \n",
       "201                      0        1.840324        90.385077  "
      ]
     },
     "execution_count": 38,
     "metadata": {},
     "output_type": "execute_result"
    }
   ],
   "source": [
    "cluster_1_df_covid_vih = df_covid_vih_2020.loc[cluster_1.index]\n",
    "cluster_1_df_covid_vih"
   ]
  },
  {
   "cell_type": "code",
   "execution_count": 145,
   "id": "b88a947c",
   "metadata": {},
   "outputs": [
    {
     "data": {
      "text/html": [
       "<div>\n",
       "<style scoped>\n",
       "    .dataframe tbody tr th:only-of-type {\n",
       "        vertical-align: middle;\n",
       "    }\n",
       "\n",
       "    .dataframe tbody tr th {\n",
       "        vertical-align: top;\n",
       "    }\n",
       "\n",
       "    .dataframe thead th {\n",
       "        text-align: right;\n",
       "    }\n",
       "</style>\n",
       "<table border=\"1\" class=\"dataframe\">\n",
       "  <thead>\n",
       "    <tr style=\"text-align: right;\">\n",
       "      <th></th>\n",
       "      <th>count</th>\n",
       "      <th>mean</th>\n",
       "      <th>std</th>\n",
       "      <th>min</th>\n",
       "      <th>25%</th>\n",
       "      <th>50%</th>\n",
       "      <th>75%</th>\n",
       "      <th>max</th>\n",
       "    </tr>\n",
       "  </thead>\n",
       "  <tbody>\n",
       "    <tr>\n",
       "      <th>AREA_KM2</th>\n",
       "      <td>6.0</td>\n",
       "      <td>1.000774e+07</td>\n",
       "      <td>3182905.952</td>\n",
       "      <td>7682300.000</td>\n",
       "      <td>8541982.500</td>\n",
       "      <td>9120465.000</td>\n",
       "      <td>9328013.250</td>\n",
       "      <td>1.637687e+07</td>\n",
       "    </tr>\n",
       "    <tr>\n",
       "      <th>PROMEDIO_EDAD</th>\n",
       "      <td>6.0</td>\n",
       "      <td>3.800000e+01</td>\n",
       "      <td>2.757</td>\n",
       "      <td>33.000</td>\n",
       "      <td>38.000</td>\n",
       "      <td>38.000</td>\n",
       "      <td>39.500</td>\n",
       "      <td>4.100000e+01</td>\n",
       "    </tr>\n",
       "    <tr>\n",
       "      <th>TASA_LETALIDAD</th>\n",
       "      <td>6.0</td>\n",
       "      <td>2.924000e+00</td>\n",
       "      <td>1.238</td>\n",
       "      <td>1.769</td>\n",
       "      <td>2.037</td>\n",
       "      <td>2.772</td>\n",
       "      <td>3.158</td>\n",
       "      <td>5.151000e+00</td>\n",
       "    </tr>\n",
       "    <tr>\n",
       "      <th>TASA_MORTALIDAD</th>\n",
       "      <td>6.0</td>\n",
       "      <td>4.122800e+01</td>\n",
       "      <td>38.905</td>\n",
       "      <td>0.329</td>\n",
       "      <td>10.712</td>\n",
       "      <td>33.876</td>\n",
       "      <td>72.903</td>\n",
       "      <td>9.038500e+01</td>\n",
       "    </tr>\n",
       "  </tbody>\n",
       "</table>\n",
       "</div>"
      ],
      "text/plain": [
       "                 count          mean          std          min          25%  \\\n",
       "AREA_KM2           6.0  1.000774e+07  3182905.952  7682300.000  8541982.500   \n",
       "PROMEDIO_EDAD      6.0  3.800000e+01        2.757       33.000       38.000   \n",
       "TASA_LETALIDAD     6.0  2.924000e+00        1.238        1.769        2.037   \n",
       "TASA_MORTALIDAD    6.0  4.122800e+01       38.905        0.329       10.712   \n",
       "\n",
       "                         50%          75%           max  \n",
       "AREA_KM2         9120465.000  9328013.250  1.637687e+07  \n",
       "PROMEDIO_EDAD         38.000       39.500  4.100000e+01  \n",
       "TASA_LETALIDAD         2.772        3.158  5.151000e+00  \n",
       "TASA_MORTALIDAD       33.876       72.903  9.038500e+01  "
      ]
     },
     "execution_count": 145,
     "metadata": {},
     "output_type": "execute_result"
    }
   ],
   "source": [
    "cluster_1_stats = cluster_1_df_covid_vih[['AREA_KM2', 'PROMEDIO_EDAD', 'TASA_LETALIDAD','TASA_MORTALIDAD']].describe().round(3)\n",
    "cluster_1_stats = cluster_1_stats.transpose()\n",
    "cluster_1_stats"
   ]
  },
  {
   "cell_type": "code",
   "execution_count": 40,
   "id": "bba89619",
   "metadata": {},
   "outputs": [
    {
     "data": {
      "text/plain": [
       "array(['Australia', 'Brazil', 'Canada', 'China', 'Russia',\n",
       "       'United_States_of_America'], dtype=object)"
      ]
     },
     "execution_count": 40,
     "metadata": {},
     "output_type": "execute_result"
    }
   ],
   "source": [
    "cluster_1_df_covid_vih['PAIS'].unique()"
   ]
  },
  {
   "cell_type": "markdown",
   "id": "9bfa5e79",
   "metadata": {},
   "source": [
    "### Datos para el cluster 2"
   ]
  },
  {
   "cell_type": "code",
   "execution_count": 41,
   "id": "f73240c2",
   "metadata": {},
   "outputs": [],
   "source": [
    "cluster_2 = data_sd_no_out.loc[data_sd_no_out.loc[:, 'NUMERO_CLUSTER'] == 2]\n",
    "#cluster_2.head()"
   ]
  },
  {
   "cell_type": "code",
   "execution_count": 42,
   "id": "4ac3dcf9",
   "metadata": {},
   "outputs": [],
   "source": [
    "cluster_2_df_covid_vih = df_covid_vih_2020.loc[cluster_2.index]\n",
    "#cluster_2_df_covid_vih"
   ]
  },
  {
   "cell_type": "code",
   "execution_count": 144,
   "id": "69f78102",
   "metadata": {},
   "outputs": [
    {
     "data": {
      "text/html": [
       "<div>\n",
       "<style scoped>\n",
       "    .dataframe tbody tr th:only-of-type {\n",
       "        vertical-align: middle;\n",
       "    }\n",
       "\n",
       "    .dataframe tbody tr th {\n",
       "        vertical-align: top;\n",
       "    }\n",
       "\n",
       "    .dataframe thead th {\n",
       "        text-align: right;\n",
       "    }\n",
       "</style>\n",
       "<table border=\"1\" class=\"dataframe\">\n",
       "  <thead>\n",
       "    <tr style=\"text-align: right;\">\n",
       "      <th></th>\n",
       "      <th>count</th>\n",
       "      <th>mean</th>\n",
       "      <th>std</th>\n",
       "      <th>min</th>\n",
       "      <th>25%</th>\n",
       "      <th>50%</th>\n",
       "      <th>75%</th>\n",
       "      <th>max</th>\n",
       "    </tr>\n",
       "  </thead>\n",
       "  <tbody>\n",
       "    <tr>\n",
       "      <th>AREA_KM2</th>\n",
       "      <td>72.0</td>\n",
       "      <td>212504.952</td>\n",
       "      <td>516807.192</td>\n",
       "      <td>10.12</td>\n",
       "      <td>95.810</td>\n",
       "      <td>265.635</td>\n",
       "      <td>838.918</td>\n",
       "      <td>2267050.000</td>\n",
       "    </tr>\n",
       "    <tr>\n",
       "      <th>PROMEDIO_EDAD</th>\n",
       "      <td>72.0</td>\n",
       "      <td>21.514</td>\n",
       "      <td>4.648</td>\n",
       "      <td>15.00</td>\n",
       "      <td>18.750</td>\n",
       "      <td>20.000</td>\n",
       "      <td>24.000</td>\n",
       "      <td>45.000</td>\n",
       "    </tr>\n",
       "    <tr>\n",
       "      <th>TASA_LETALIDAD</th>\n",
       "      <td>72.0</td>\n",
       "      <td>2.467</td>\n",
       "      <td>1.943</td>\n",
       "      <td>0.00</td>\n",
       "      <td>1.236</td>\n",
       "      <td>1.980</td>\n",
       "      <td>3.076</td>\n",
       "      <td>9.116</td>\n",
       "    </tr>\n",
       "    <tr>\n",
       "      <th>TASA_MORTALIDAD</th>\n",
       "      <td>72.0</td>\n",
       "      <td>9.591</td>\n",
       "      <td>18.217</td>\n",
       "      <td>0.00</td>\n",
       "      <td>0.596</td>\n",
       "      <td>2.024</td>\n",
       "      <td>7.011</td>\n",
       "      <td>88.382</td>\n",
       "    </tr>\n",
       "  </tbody>\n",
       "</table>\n",
       "</div>"
      ],
      "text/plain": [
       "                 count        mean         std    min     25%      50%  \\\n",
       "AREA_KM2          72.0  212504.952  516807.192  10.12  95.810  265.635   \n",
       "PROMEDIO_EDAD     72.0      21.514       4.648  15.00  18.750   20.000   \n",
       "TASA_LETALIDAD    72.0       2.467       1.943   0.00   1.236    1.980   \n",
       "TASA_MORTALIDAD   72.0       9.591      18.217   0.00   0.596    2.024   \n",
       "\n",
       "                     75%          max  \n",
       "AREA_KM2         838.918  2267050.000  \n",
       "PROMEDIO_EDAD     24.000       45.000  \n",
       "TASA_LETALIDAD     3.076        9.116  \n",
       "TASA_MORTALIDAD    7.011       88.382  "
      ]
     },
     "execution_count": 144,
     "metadata": {},
     "output_type": "execute_result"
    }
   ],
   "source": [
    "cluster_2_stats = cluster_2_df_covid_vih[['AREA_KM2', 'PROMEDIO_EDAD','TASA_LETALIDAD','TASA_MORTALIDAD']].describe().round(3)\n",
    "cluster_2_stats = cluster_2_stats.transpose()\n",
    "cluster_2_stats"
   ]
  },
  {
   "cell_type": "code",
   "execution_count": 44,
   "id": "02f40227",
   "metadata": {},
   "outputs": [
    {
     "data": {
      "text/plain": [
       "array(['Afghanistan', 'Angola', 'Belize', 'Benin', 'Bolivia',\n",
       "       'Burkina_Faso', 'Burundi', 'Cameroon', 'Central_African_Republic',\n",
       "       'Chad', 'Comoros', 'Congo', 'Cote_dIvoire',\n",
       "       'Democratic_Republic_of_the_Congo', 'Ecuador', 'Egypt',\n",
       "       'El_Salvador', 'Equatorial_Guinea', 'Eritrea', 'Eswatini',\n",
       "       'Ethiopia', 'Fiji', 'Gabon', 'Gambia', 'Ghana', 'Guatemala',\n",
       "       'Guinea', 'Guinea_Bissau', 'Guyana', 'Haiti', 'Honduras', 'Iraq',\n",
       "       'Isle_of_Man', 'Jordan', 'Kenya', 'Kyrgyzstan', 'Lesotho',\n",
       "       'Liberia', 'Madagascar', 'Malawi', 'Mali', 'Mauritania', 'Mexico',\n",
       "       'Montserrat', 'Mozambique', 'Namibia', 'Nepal', 'Nicaragua',\n",
       "       'Niger', 'Nigeria', 'Pakistan', 'Palestine', 'Papua_New_Guinea',\n",
       "       'Paraguay', 'Philippines', 'Rwanda', 'Sao_Tome_and_Principe',\n",
       "       'Senegal', 'Sierra_Leone', 'Solomon_Islands', 'Somalia',\n",
       "       'South_Sudan', 'Sudan', 'Syria', 'Tajikistan', 'Timor_Leste',\n",
       "       'Togo', 'Uganda', 'United_Republic_of_Tanzania', 'Vanuatu',\n",
       "       'Zambia', 'Zimbabwe'], dtype=object)"
      ]
     },
     "execution_count": 44,
     "metadata": {},
     "output_type": "execute_result"
    }
   ],
   "source": [
    "cluster_2_df_covid_vih['PAIS'].unique()"
   ]
  },
  {
   "cell_type": "markdown",
   "id": "d9a19712",
   "metadata": {},
   "source": [
    "### Datos para el cluster 3"
   ]
  },
  {
   "cell_type": "code",
   "execution_count": 45,
   "id": "32bf2046",
   "metadata": {},
   "outputs": [],
   "source": [
    "cluster_3 = data_sd_no_out.loc[data_sd_no_out.loc[:, 'NUMERO_CLUSTER'] == 3]\n",
    "#cluster_3.head()"
   ]
  },
  {
   "cell_type": "code",
   "execution_count": 46,
   "id": "fa80abd0",
   "metadata": {},
   "outputs": [],
   "source": [
    "cluster_3_df_covid_vih = df_covid_vih_2020.loc[cluster_3.index]\n",
    "#cluster_3_df_covid_vih"
   ]
  },
  {
   "cell_type": "code",
   "execution_count": 146,
   "id": "a41af912",
   "metadata": {},
   "outputs": [
    {
     "data": {
      "text/html": [
       "<div>\n",
       "<style scoped>\n",
       "    .dataframe tbody tr th:only-of-type {\n",
       "        vertical-align: middle;\n",
       "    }\n",
       "\n",
       "    .dataframe tbody tr th {\n",
       "        vertical-align: top;\n",
       "    }\n",
       "\n",
       "    .dataframe thead th {\n",
       "        text-align: right;\n",
       "    }\n",
       "</style>\n",
       "<table border=\"1\" class=\"dataframe\">\n",
       "  <thead>\n",
       "    <tr style=\"text-align: right;\">\n",
       "      <th></th>\n",
       "      <th>count</th>\n",
       "      <th>mean</th>\n",
       "      <th>std</th>\n",
       "      <th>min</th>\n",
       "      <th>25%</th>\n",
       "      <th>50%</th>\n",
       "      <th>75%</th>\n",
       "      <th>max</th>\n",
       "    </tr>\n",
       "  </thead>\n",
       "  <tbody>\n",
       "    <tr>\n",
       "      <th>AREA_KM2</th>\n",
       "      <td>133.0</td>\n",
       "      <td>193284.235</td>\n",
       "      <td>589486.814</td>\n",
       "      <td>0.44</td>\n",
       "      <td>51.000</td>\n",
       "      <td>230.170</td>\n",
       "      <td>566.730</td>\n",
       "      <td>2973190.000</td>\n",
       "    </tr>\n",
       "    <tr>\n",
       "      <th>PROMEDIO_EDAD</th>\n",
       "      <td>133.0</td>\n",
       "      <td>36.872</td>\n",
       "      <td>6.824</td>\n",
       "      <td>24.00</td>\n",
       "      <td>32.000</td>\n",
       "      <td>37.000</td>\n",
       "      <td>42.000</td>\n",
       "      <td>70.000</td>\n",
       "    </tr>\n",
       "    <tr>\n",
       "      <th>TASA_LETALIDAD</th>\n",
       "      <td>133.0</td>\n",
       "      <td>1.438</td>\n",
       "      <td>1.038</td>\n",
       "      <td>0.00</td>\n",
       "      <td>0.671</td>\n",
       "      <td>1.431</td>\n",
       "      <td>2.088</td>\n",
       "      <td>4.710</td>\n",
       "    </tr>\n",
       "    <tr>\n",
       "      <th>TASA_MORTALIDAD</th>\n",
       "      <td>133.0</td>\n",
       "      <td>30.732</td>\n",
       "      <td>34.961</td>\n",
       "      <td>0.00</td>\n",
       "      <td>2.436</td>\n",
       "      <td>17.946</td>\n",
       "      <td>48.854</td>\n",
       "      <td>154.889</td>\n",
       "    </tr>\n",
       "  </tbody>\n",
       "</table>\n",
       "</div>"
      ],
      "text/plain": [
       "                 count        mean         std    min     25%      50%  \\\n",
       "AREA_KM2         133.0  193284.235  589486.814   0.44  51.000  230.170   \n",
       "PROMEDIO_EDAD    133.0      36.872       6.824  24.00  32.000   37.000   \n",
       "TASA_LETALIDAD   133.0       1.438       1.038   0.00   0.671    1.431   \n",
       "TASA_MORTALIDAD  133.0      30.732      34.961   0.00   2.436   17.946   \n",
       "\n",
       "                     75%          max  \n",
       "AREA_KM2         566.730  2973190.000  \n",
       "PROMEDIO_EDAD     42.000       70.000  \n",
       "TASA_LETALIDAD     2.088        4.710  \n",
       "TASA_MORTALIDAD   48.854      154.889  "
      ]
     },
     "execution_count": 146,
     "metadata": {},
     "output_type": "execute_result"
    }
   ],
   "source": [
    "cluster_3_stats = cluster_3_df_covid_vih[['AREA_KM2', 'PROMEDIO_EDAD', 'TASA_LETALIDAD','TASA_MORTALIDAD']].describe().round(3)\n",
    "cluster_3_stats = cluster_3_stats.transpose()\n",
    "cluster_3_stats"
   ]
  },
  {
   "cell_type": "code",
   "execution_count": 48,
   "id": "7ccc06a2",
   "metadata": {},
   "outputs": [
    {
     "data": {
      "text/plain": [
       "array(['Albania', 'Algeria', 'Andorra', 'Anguilla', 'Antigua_and_Barbuda',\n",
       "       'Argentina', 'Armenia', 'Aruba', 'Austria', 'Azerbaijan',\n",
       "       'Bahamas', 'Bahrain', 'Bangladesh', 'Barbados', 'Belarus',\n",
       "       'Belgium', 'Bermuda', 'Bhutan',\n",
       "       'Bonaire, Saint Eustatius and Saba', 'Bosnia_and_Herzegovina',\n",
       "       'Botswana', 'British_Virgin_Islands', 'Brunei_Darussalam',\n",
       "       'Bulgaria', 'Cambodia', 'Cape_Verde', 'Cayman_Islands', 'Chile',\n",
       "       'Colombia', 'Costa_Rica', 'Croatia', 'Cuba', 'Curaçao', 'Cyprus',\n",
       "       'Czech_Republic', 'Denmark', 'Dominica', 'Dominican_Republic',\n",
       "       'Estonia', 'Falkland_Islands_(Malvinas)', 'Faroe_Islands',\n",
       "       'Finland', 'France', 'French_Polynesia', 'Georgia', 'Germany',\n",
       "       'Gibraltar', 'Greece', 'Greenland', 'Grenada', 'Guam', 'Guernsey',\n",
       "       'Holy_See', 'Hungary', 'Iceland', 'India', 'Indonesia', 'Iran',\n",
       "       'Ireland', 'Israel', 'Italy', 'Jamaica', 'Japan', 'Jersey',\n",
       "       'Kazakhstan', 'Kosovo', 'Kuwait', 'Laos', 'Latvia', 'Lebanon',\n",
       "       'Libya', 'Liechtenstein', 'Lithuania', 'Luxembourg', 'Malaysia',\n",
       "       'Maldives', 'Malta', 'Marshall_Islands', 'Mauritius', 'Moldova',\n",
       "       'Monaco', 'Mongolia', 'Montenegro', 'Morocco', 'Myanmar',\n",
       "       'Netherlands', 'New_Caledonia', 'New_Zealand', 'North_Macedonia',\n",
       "       'Northern_Mariana_Islands', 'Norway', 'Oman', 'Panama', 'Peru',\n",
       "       'Poland', 'Portugal', 'Puerto_Rico', 'Qatar', 'Romania',\n",
       "       'Saint_Kitts_and_Nevis', 'Saint_Lucia',\n",
       "       'Saint_Vincent_and_the_Grenadines', 'San_Marino', 'Saudi_Arabia',\n",
       "       'Serbia', 'Seychelles', 'Singapore', 'Sint_Maarten', 'Slovakia',\n",
       "       'Slovenia', 'South_Africa', 'South_Korea', 'Spain', 'Sri_Lanka',\n",
       "       'Suriname', 'Sweden', 'Switzerland', 'Taiwan', 'Thailand',\n",
       "       'Trinidad_and_Tobago', 'Tunisia', 'Turkey',\n",
       "       'Turks_and_Caicos_islands', 'Ukraine', 'United_Arab_Emirates',\n",
       "       'United_Kingdom', 'United_States_Virgin_Islands', 'Uruguay',\n",
       "       'Uzbekistan', 'Venezuela', 'Vietnam', 'Wallis_and_Futuna',\n",
       "       'Western_Sahara'], dtype=object)"
      ]
     },
     "execution_count": 48,
     "metadata": {},
     "output_type": "execute_result"
    }
   ],
   "source": [
    "cluster_3_df_covid_vih['PAIS'].unique()"
   ]
  },
  {
   "cell_type": "markdown",
   "id": "fe9fc651",
   "metadata": {},
   "source": [
    "### Resultados del clustering\n",
    "\n",
    "Claramente se observa que los paises pertenecientes al **cluster 1**, son los que presentan una mayor media en la tasa de letalidad, es decir, la relación entre la cantidad de personas fallecidas a causa del virus SARS-Cov-2 y la cantidad de contagiados por el virus. Sin embargo, el resultado es lógico, pues son los paises que tienen una mayor extensión geográfica, en los que fue dispendiosa la labor del proceso de vacunación para evitar muertes. Coincidencialmente, estos paises, en su mayoría, no presentan datos sobre las muertes a causa de VIH, que es el tema de interés del presente estudio.\n",
    "\n",
    "Por consiguiente, el análisis se centrará en los paises que hacen parte del **cluster 2**, los cuales presentan una media de la tasa de letalidad mayor que los del tercer cluster."
   ]
  },
  {
   "cell_type": "code",
   "execution_count": 49,
   "id": "003d372e",
   "metadata": {},
   "outputs": [
    {
     "data": {
      "text/html": [
       "<div>\n",
       "<style scoped>\n",
       "    .dataframe tbody tr th:only-of-type {\n",
       "        vertical-align: middle;\n",
       "    }\n",
       "\n",
       "    .dataframe tbody tr th {\n",
       "        vertical-align: top;\n",
       "    }\n",
       "\n",
       "    .dataframe thead th {\n",
       "        text-align: right;\n",
       "    }\n",
       "</style>\n",
       "<table border=\"1\" class=\"dataframe\">\n",
       "  <thead>\n",
       "    <tr style=\"text-align: right;\">\n",
       "      <th></th>\n",
       "      <th>PAIS</th>\n",
       "      <th>CONTINENTE</th>\n",
       "      <th>PERIODO</th>\n",
       "      <th>CASOS_COVID</th>\n",
       "      <th>MUERTES_COVID</th>\n",
       "      <th>MUERTES_VIH</th>\n",
       "      <th>POBLACION</th>\n",
       "      <th>AREA_KM2</th>\n",
       "      <th>PROMEDIO_EDAD</th>\n",
       "      <th>COVERTURA_TERAPIA_VIH</th>\n",
       "      <th>TASA_LETALIDAD</th>\n",
       "      <th>TASA_MORTALIDAD</th>\n",
       "    </tr>\n",
       "  </thead>\n",
       "  <tbody>\n",
       "    <tr>\n",
       "      <th>0</th>\n",
       "      <td>Afghanistan</td>\n",
       "      <td>Asia</td>\n",
       "      <td>2020</td>\n",
       "      <td>49273</td>\n",
       "      <td>1971</td>\n",
       "      <td>540</td>\n",
       "      <td>38928346</td>\n",
       "      <td>652.86</td>\n",
       "      <td>18</td>\n",
       "      <td>9</td>\n",
       "      <td>4.000162</td>\n",
       "      <td>5.063149</td>\n",
       "    </tr>\n",
       "    <tr>\n",
       "      <th>4</th>\n",
       "      <td>Angola</td>\n",
       "      <td>Africa</td>\n",
       "      <td>2020</td>\n",
       "      <td>16188</td>\n",
       "      <td>371</td>\n",
       "      <td>16000</td>\n",
       "      <td>32866272</td>\n",
       "      <td>1246700.00</td>\n",
       "      <td>17</td>\n",
       "      <td>33</td>\n",
       "      <td>2.291821</td>\n",
       "      <td>1.128817</td>\n",
       "    </tr>\n",
       "    <tr>\n",
       "      <th>19</th>\n",
       "      <td>Belize</td>\n",
       "      <td>America</td>\n",
       "      <td>2020</td>\n",
       "      <td>9295</td>\n",
       "      <td>195</td>\n",
       "      <td>300</td>\n",
       "      <td>397628</td>\n",
       "      <td>22.81</td>\n",
       "      <td>25</td>\n",
       "      <td>39</td>\n",
       "      <td>2.097902</td>\n",
       "      <td>49.040812</td>\n",
       "    </tr>\n",
       "    <tr>\n",
       "      <th>20</th>\n",
       "      <td>Benin</td>\n",
       "      <td>Africa</td>\n",
       "      <td>2020</td>\n",
       "      <td>3090</td>\n",
       "      <td>44</td>\n",
       "      <td>2000</td>\n",
       "      <td>12123200</td>\n",
       "      <td>112.76</td>\n",
       "      <td>19</td>\n",
       "      <td>70</td>\n",
       "      <td>1.423948</td>\n",
       "      <td>0.362940</td>\n",
       "    </tr>\n",
       "    <tr>\n",
       "      <th>23</th>\n",
       "      <td>Bolivia</td>\n",
       "      <td>America</td>\n",
       "      <td>2020</td>\n",
       "      <td>147150</td>\n",
       "      <td>9018</td>\n",
       "      <td>350</td>\n",
       "      <td>11673021</td>\n",
       "      <td>1083300.00</td>\n",
       "      <td>26</td>\n",
       "      <td>68</td>\n",
       "      <td>6.128440</td>\n",
       "      <td>77.255065</td>\n",
       "    </tr>\n",
       "    <tr>\n",
       "      <th>31</th>\n",
       "      <td>Burkina_Faso</td>\n",
       "      <td>Africa</td>\n",
       "      <td>2020</td>\n",
       "      <td>4030</td>\n",
       "      <td>71</td>\n",
       "      <td>3300</td>\n",
       "      <td>20903273</td>\n",
       "      <td>273.60</td>\n",
       "      <td>18</td>\n",
       "      <td>72</td>\n",
       "      <td>1.761787</td>\n",
       "      <td>0.339660</td>\n",
       "    </tr>\n",
       "    <tr>\n",
       "      <th>32</th>\n",
       "      <td>Burundi</td>\n",
       "      <td>Africa</td>\n",
       "      <td>2020</td>\n",
       "      <td>729</td>\n",
       "      <td>1</td>\n",
       "      <td>1700</td>\n",
       "      <td>11890784</td>\n",
       "      <td>25.68</td>\n",
       "      <td>17</td>\n",
       "      <td>88</td>\n",
       "      <td>0.137174</td>\n",
       "      <td>0.008410</td>\n",
       "    </tr>\n",
       "    <tr>\n",
       "      <th>34</th>\n",
       "      <td>Cameroon</td>\n",
       "      <td>Africa</td>\n",
       "      <td>2020</td>\n",
       "      <td>25143</td>\n",
       "      <td>443</td>\n",
       "      <td>14000</td>\n",
       "      <td>26545863</td>\n",
       "      <td>472.71</td>\n",
       "      <td>19</td>\n",
       "      <td>74</td>\n",
       "      <td>1.761922</td>\n",
       "      <td>1.668810</td>\n",
       "    </tr>\n",
       "    <tr>\n",
       "      <th>38</th>\n",
       "      <td>Central_African_Republic</td>\n",
       "      <td>Africa</td>\n",
       "      <td>2020</td>\n",
       "      <td>4936</td>\n",
       "      <td>63</td>\n",
       "      <td>3200</td>\n",
       "      <td>4829767</td>\n",
       "      <td>622.98</td>\n",
       "      <td>18</td>\n",
       "      <td>58</td>\n",
       "      <td>1.276337</td>\n",
       "      <td>1.304411</td>\n",
       "    </tr>\n",
       "    <tr>\n",
       "      <th>39</th>\n",
       "      <td>Chad</td>\n",
       "      <td>Africa</td>\n",
       "      <td>2020</td>\n",
       "      <td>1770</td>\n",
       "      <td>102</td>\n",
       "      <td>3000</td>\n",
       "      <td>16425864</td>\n",
       "      <td>1259200.00</td>\n",
       "      <td>17</td>\n",
       "      <td>69</td>\n",
       "      <td>5.762712</td>\n",
       "      <td>0.620972</td>\n",
       "    </tr>\n",
       "  </tbody>\n",
       "</table>\n",
       "</div>"
      ],
      "text/plain": [
       "                        PAIS CONTINENTE  PERIODO  CASOS_COVID  MUERTES_COVID  \\\n",
       "0                Afghanistan       Asia     2020        49273           1971   \n",
       "4                     Angola     Africa     2020        16188            371   \n",
       "19                    Belize    America     2020         9295            195   \n",
       "20                     Benin     Africa     2020         3090             44   \n",
       "23                   Bolivia    America     2020       147150           9018   \n",
       "31              Burkina_Faso     Africa     2020         4030             71   \n",
       "32                   Burundi     Africa     2020          729              1   \n",
       "34                  Cameroon     Africa     2020        25143            443   \n",
       "38  Central_African_Republic     Africa     2020         4936             63   \n",
       "39                      Chad     Africa     2020         1770            102   \n",
       "\n",
       "    MUERTES_VIH  POBLACION    AREA_KM2  PROMEDIO_EDAD  COVERTURA_TERAPIA_VIH  \\\n",
       "0           540   38928346      652.86             18                      9   \n",
       "4         16000   32866272  1246700.00             17                     33   \n",
       "19          300     397628       22.81             25                     39   \n",
       "20         2000   12123200      112.76             19                     70   \n",
       "23          350   11673021  1083300.00             26                     68   \n",
       "31         3300   20903273      273.60             18                     72   \n",
       "32         1700   11890784       25.68             17                     88   \n",
       "34        14000   26545863      472.71             19                     74   \n",
       "38         3200    4829767      622.98             18                     58   \n",
       "39         3000   16425864  1259200.00             17                     69   \n",
       "\n",
       "    TASA_LETALIDAD  TASA_MORTALIDAD  \n",
       "0         4.000162         5.063149  \n",
       "4         2.291821         1.128817  \n",
       "19        2.097902        49.040812  \n",
       "20        1.423948         0.362940  \n",
       "23        6.128440        77.255065  \n",
       "31        1.761787         0.339660  \n",
       "32        0.137174         0.008410  \n",
       "34        1.761922         1.668810  \n",
       "38        1.276337         1.304411  \n",
       "39        5.762712         0.620972  "
      ]
     },
     "execution_count": 49,
     "metadata": {},
     "output_type": "execute_result"
    }
   ],
   "source": [
    "cluster_2_df_covid_vih.head(10)"
   ]
  },
  {
   "cell_type": "markdown",
   "id": "32705793",
   "metadata": {},
   "source": [
    "# MODELO DE REGRESIÓN LINEAL"
   ]
  },
  {
   "cell_type": "code",
   "execution_count": 50,
   "id": "a543cea8",
   "metadata": {},
   "outputs": [],
   "source": [
    "import tensorflow as tf\n",
    "from sklearn import linear_model\n",
    "from sklearn.model_selection import train_test_split\n",
    "from sklearn.metrics import r2_score, mean_squared_error, mean_absolute_error, mean_absolute_percentage_error\n",
    "from sklearn.linear_model import LinearRegression\n",
    "from sklearn import preprocessing\n",
    "from tensorflow import keras\n",
    "from tensorflow.keras import layers\n",
    "from ann_visualizer.visualize import ann_viz"
   ]
  },
  {
   "cell_type": "markdown",
   "id": "40d29688",
   "metadata": {},
   "source": [
    "## Correlación\n",
    "\n",
    "Se calcula la correlacion de cada uno de los parametros con la variable objeto de prediccion 'MUERTES_VIH'"
   ]
  },
  {
   "cell_type": "code",
   "execution_count": 51,
   "id": "3c5aa206",
   "metadata": {},
   "outputs": [
    {
     "name": "stdout",
     "output_type": "stream",
     "text": [
      "POBLACION                0.487482\n",
      "AREA_KM2                 0.052066\n",
      "PROMEDIO_EDAD           -0.332945\n",
      "COVERTURA_TERAPIA_VIH    0.394585\n",
      "TASA_LETALIDAD          -0.120605\n",
      "TASA_MORTALIDAD         -0.220224\n",
      "Name: MUERTES_VIH, dtype: float64\n"
     ]
    }
   ],
   "source": [
    "df_covid_vih_C2 = cluster_2_df_covid_vih[['MUERTES_VIH', 'POBLACION', 'AREA_KM2', 'PROMEDIO_EDAD','COVERTURA_TERAPIA_VIH', 'TASA_LETALIDAD', 'TASA_MORTALIDAD']]\n",
    "\n",
    "crr = df_covid_vih_C2.corr()['MUERTES_VIH'].drop('MUERTES_VIH')\n",
    "print(crr)"
   ]
  },
  {
   "cell_type": "code",
   "execution_count": 52,
   "id": "7ddd425b",
   "metadata": {},
   "outputs": [
    {
     "data": {
      "image/png": "[encoded data removed]",
      "text/plain": [
       "<Figure size 864x432 with 1 Axes>"
      ]
     },
     "metadata": {
      "needs_background": "light"
     },
     "output_type": "display_data"
    }
   ],
   "source": [
    "x1 = (0.487482,0.052066,-0.332945,0.394585,-0.120605,-0.220224)\n",
    "y1 = (\"poblacón\",\"area\",\"media edad\",\"terapia vih\",\"letalidad\",\"mortalidad\")\n",
    "\n",
    "fig = plt.figure(figsize = (12,6))\n",
    "plt.stem(y1, x1)\n",
    "plt.ylim(-0.4, 0.6)\n",
    "plt.ylabel('Correlación')\n",
    "plt.xlabel('Atributos')\n",
    "plt.title('')\n",
    "plt.show()"
   ]
  },
  {
   "cell_type": "markdown",
   "id": "d7c5c412",
   "metadata": {},
   "source": [
    "Se observa que los parámetros área y letalidad, son los que presentan menor nivel de correlación con la cantidad de muertes por VIH. En tanto que los parámetros población y media edad, presentan un nivel medianamente alto de correlación. Luego se seleccionan los atributos con mayor nivel de correlación, conforme con un umbral establecido."
   ]
  },
  {
   "cell_type": "code",
   "execution_count": 53,
   "id": "38de27e3",
   "metadata": {},
   "outputs": [
    {
     "data": {
      "text/plain": [
       "['POBLACION', 'PROMEDIO_EDAD', 'COVERTURA_TERAPIA_VIH', 'TASA_MORTALIDAD']"
      ]
     },
     "execution_count": 53,
     "metadata": {},
     "output_type": "execute_result"
    }
   ],
   "source": [
    "    crr_abs = crr.abs()\n",
    "    crr_select = crr_abs[crr_abs > 0.20].index.values.tolist()\n",
    "    crr_select"
   ]
  },
  {
   "cell_type": "code",
   "execution_count": 54,
   "id": "e5bd8bd7",
   "metadata": {},
   "outputs": [],
   "source": [
    "X = df_covid_vih_C2[crr_select] \n",
    "Y = df_covid_vih_C2['MUERTES_VIH']"
   ]
  },
  {
   "cell_type": "markdown",
   "id": "cbd69323",
   "metadata": {},
   "source": [
    "### Normalización"
   ]
  },
  {
   "cell_type": "code",
   "execution_count": 55,
   "id": "6116c771",
   "metadata": {},
   "outputs": [],
   "source": [
    "X_norm = preprocessing.StandardScaler().fit(X).transform(X)"
   ]
  },
  {
   "cell_type": "markdown",
   "id": "29f017e1",
   "metadata": {},
   "source": [
    "## Regresión Lineal"
   ]
  },
  {
   "cell_type": "code",
   "execution_count": 60,
   "id": "717d58e8",
   "metadata": {},
   "outputs": [],
   "source": [
    "import statsmodels.formula.api as smf"
   ]
  },
  {
   "cell_type": "code",
   "execution_count": 61,
   "id": "2cd2cd5d",
   "metadata": {},
   "outputs": [],
   "source": [
    "#cluster_2_df_covid_vih # Dataframe correspondiente al cluster número 2"
   ]
  },
  {
   "cell_type": "markdown",
   "id": "99d14195",
   "metadata": {},
   "source": [
    "### Predicción de Muertes VIH en Función de la Población"
   ]
  },
  {
   "cell_type": "markdown",
   "id": "01897b47",
   "metadata": {},
   "source": [
    "Se construye un modelo de regresion lineal, con el fin de predecir el atributo \"MUERTES_VIH\" en funcion de la variable \"POBLACION\"."
   ]
  },
  {
   "cell_type": "code",
   "execution_count": 62,
   "id": "cfb36dbe",
   "metadata": {},
   "outputs": [],
   "source": [
    "lm = smf.ols(formula = \"MUERTES_VIH~POBLACION\", data = cluster_2_df_covid_vih).fit()"
   ]
  },
  {
   "cell_type": "code",
   "execution_count": 63,
   "id": "c9c6a645",
   "metadata": {},
   "outputs": [
    {
     "data": {
      "text/plain": [
       "Intercept    2667.214781\n",
       "POBLACION       0.000108\n",
       "dtype: float64"
      ]
     },
     "execution_count": 63,
     "metadata": {},
     "output_type": "execute_result"
    }
   ],
   "source": [
    "lm.params"
   ]
  },
  {
   "cell_type": "markdown",
   "id": "c4d75525",
   "metadata": {},
   "source": [
    "El modelo lineal predictivo es de la forma: $y = ax + b$, y para el caso particular es $MUERTES \\space VIH = 0.000108*POBLACION + 2667.214781$\n",
    "El modelo lineal indica que un aumento en 100.000 unidades de la población, representaría un aumento de 10 unidades en muertes por VIH."
   ]
  },
  {
   "cell_type": "code",
   "execution_count": 64,
   "id": "8ee2018b",
   "metadata": {},
   "outputs": [
    {
     "data": {
      "text/plain": [
       "Intercept    0.023186\n",
       "POBLACION    0.000014\n",
       "dtype: float64"
      ]
     },
     "execution_count": 64,
     "metadata": {},
     "output_type": "execute_result"
    }
   ],
   "source": [
    "lm.pvalues"
   ]
  },
  {
   "cell_type": "markdown",
   "id": "9cc4a81a",
   "metadata": {},
   "source": [
    "Como los p-valores son pequeños, cercanos al cero, entonces significa que los parámetros son significativos y se puede garantizar que no son cero."
   ]
  },
  {
   "cell_type": "code",
   "execution_count": 65,
   "id": "f1c2cc5f",
   "metadata": {},
   "outputs": [
    {
     "data": {
      "text/plain": [
       "0.23763841034850575"
      ]
     },
     "execution_count": 65,
     "metadata": {},
     "output_type": "execute_result"
    }
   ],
   "source": [
    "lm.rsquared"
   ]
  },
  {
   "cell_type": "markdown",
   "id": "fa7f60f7",
   "metadata": {},
   "source": [
    "El $R^2$"
   ]
  },
  {
   "cell_type": "code",
   "execution_count": 66,
   "id": "fb92a24e",
   "metadata": {},
   "outputs": [
    {
     "data": {
      "text/html": [
       "<table class=\"simpletable\">\n",
       "<caption>OLS Regression Results</caption>\n",
       "<tr>\n",
       "  <th>Dep. Variable:</th>       <td>MUERTES_VIH</td>   <th>  R-squared:         </th> <td>   0.238</td>\n",
       "</tr>\n",
       "<tr>\n",
       "  <th>Model:</th>                   <td>OLS</td>       <th>  Adj. R-squared:    </th> <td>   0.227</td>\n",
       "</tr>\n",
       "<tr>\n",
       "  <th>Method:</th>             <td>Least Squares</td>  <th>  F-statistic:       </th> <td>   21.82</td>\n",
       "</tr>\n",
       "<tr>\n",
       "  <th>Date:</th>             <td>Fri, 04 Mar 2022</td> <th>  Prob (F-statistic):</th> <td>1.41e-05</td>\n",
       "</tr>\n",
       "<tr>\n",
       "  <th>Time:</th>                 <td>08:12:17</td>     <th>  Log-Likelihood:    </th> <td> -750.60</td>\n",
       "</tr>\n",
       "<tr>\n",
       "  <th>No. Observations:</th>      <td>    72</td>      <th>  AIC:               </th> <td>   1505.</td>\n",
       "</tr>\n",
       "<tr>\n",
       "  <th>Df Residuals:</th>          <td>    70</td>      <th>  BIC:               </th> <td>   1510.</td>\n",
       "</tr>\n",
       "<tr>\n",
       "  <th>Df Model:</th>              <td>     1</td>      <th>                     </th>     <td> </td>   \n",
       "</tr>\n",
       "<tr>\n",
       "  <th>Covariance Type:</th>      <td>nonrobust</td>    <th>                     </th>     <td> </td>   \n",
       "</tr>\n",
       "</table>\n",
       "<table class=\"simpletable\">\n",
       "<tr>\n",
       "      <td></td>         <th>coef</th>     <th>std err</th>      <th>t</th>      <th>P>|t|</th>  <th>[0.025</th>    <th>0.975]</th>  \n",
       "</tr>\n",
       "<tr>\n",
       "  <th>Intercept</th> <td> 2667.2148</td> <td> 1149.004</td> <td>    2.321</td> <td> 0.023</td> <td>  375.599</td> <td> 4958.831</td>\n",
       "</tr>\n",
       "<tr>\n",
       "  <th>POBLACION</th> <td>    0.0001</td> <td> 2.32e-05</td> <td>    4.671</td> <td> 0.000</td> <td>  6.2e-05</td> <td>    0.000</td>\n",
       "</tr>\n",
       "</table>\n",
       "<table class=\"simpletable\">\n",
       "<tr>\n",
       "  <th>Omnibus:</th>       <td>34.159</td> <th>  Durbin-Watson:     </th> <td>   1.888</td>\n",
       "</tr>\n",
       "<tr>\n",
       "  <th>Prob(Omnibus):</th> <td> 0.000</td> <th>  Jarque-Bera (JB):  </th> <td>  75.721</td>\n",
       "</tr>\n",
       "<tr>\n",
       "  <th>Skew:</th>          <td> 1.619</td> <th>  Prob(JB):          </th> <td>3.61e-17</td>\n",
       "</tr>\n",
       "<tr>\n",
       "  <th>Kurtosis:</th>      <td> 6.842</td> <th>  Cond. No.          </th> <td>5.85e+07</td>\n",
       "</tr>\n",
       "</table><br/><br/>Notes:<br/>[1] Standard Errors assume that the covariance matrix of the errors is correctly specified.<br/>[2] The condition number is large, 5.85e+07. This might indicate that there are<br/>strong multicollinearity or other numerical problems."
      ],
      "text/plain": [
       "<class 'statsmodels.iolib.summary.Summary'>\n",
       "\"\"\"\n",
       "                            OLS Regression Results                            \n",
       "==============================================================================\n",
       "Dep. Variable:            MUERTES_VIH   R-squared:                       0.238\n",
       "Model:                            OLS   Adj. R-squared:                  0.227\n",
       "Method:                 Least Squares   F-statistic:                     21.82\n",
       "Date:                Fri, 04 Mar 2022   Prob (F-statistic):           1.41e-05\n",
       "Time:                        08:12:17   Log-Likelihood:                -750.60\n",
       "No. Observations:                  72   AIC:                             1505.\n",
       "Df Residuals:                      70   BIC:                             1510.\n",
       "Df Model:                           1                                         \n",
       "Covariance Type:            nonrobust                                         \n",
       "==============================================================================\n",
       "                 coef    std err          t      P>|t|      [0.025      0.975]\n",
       "------------------------------------------------------------------------------\n",
       "Intercept   2667.2148   1149.004      2.321      0.023     375.599    4958.831\n",
       "POBLACION      0.0001   2.32e-05      4.671      0.000     6.2e-05       0.000\n",
       "==============================================================================\n",
       "Omnibus:                       34.159   Durbin-Watson:                   1.888\n",
       "Prob(Omnibus):                  0.000   Jarque-Bera (JB):               75.721\n",
       "Skew:                           1.619   Prob(JB):                     3.61e-17\n",
       "Kurtosis:                       6.842   Cond. No.                     5.85e+07\n",
       "==============================================================================\n",
       "\n",
       "Notes:\n",
       "[1] Standard Errors assume that the covariance matrix of the errors is correctly specified.\n",
       "[2] The condition number is large, 5.85e+07. This might indicate that there are\n",
       "strong multicollinearity or other numerical problems.\n",
       "\"\"\""
      ]
     },
     "execution_count": 66,
     "metadata": {},
     "output_type": "execute_result"
    }
   ],
   "source": [
    "lm.summary()"
   ]
  },
  {
   "cell_type": "markdown",
   "id": "40d846aa",
   "metadata": {},
   "source": [
    "El la tabla resumen de los parámetros, los indicadores de criterio AIC y BIC, son de valor alto lo cual nuevamente da indicios de un buen modelo lineal. También se observa que el intervalo de confianza al 95%, no contiene el cero."
   ]
  },
  {
   "cell_type": "markdown",
   "id": "33499c7b",
   "metadata": {},
   "source": [
    "A continuación, un resultado de la predicción del modelo que contiene la POBLACION como parámetro único del modelo."
   ]
  },
  {
   "cell_type": "code",
   "execution_count": 67,
   "id": "8febd99b",
   "metadata": {},
   "outputs": [
    {
     "data": {
      "text/plain": [
       "0      6878.236705\n",
       "4      6222.479933\n",
       "19     2710.227660\n",
       "20     3978.625777\n",
       "23     3929.928264\n",
       "          ...     \n",
       "196    7615.187225\n",
       "200    9128.884168\n",
       "205    2700.439782\n",
       "211    4655.874601\n",
       "212    4274.991768\n",
       "Length: 72, dtype: float64"
      ]
     },
     "execution_count": 67,
     "metadata": {},
     "output_type": "execute_result"
    }
   ],
   "source": [
    "MUERTES_VIH_pred = lm.predict(pd.DataFrame(cluster_2_df_covid_vih[\"POBLACION\"]))\n",
    "MUERTES_VIH_pred"
   ]
  },
  {
   "cell_type": "markdown",
   "id": "3f6f7d16",
   "metadata": {},
   "source": [
    "En la gráfica se muestran los datos originales del dataset, de muertes por VIH en función de la población, contrastado con la línea correspondiente al modelo lineal que mejor se ajusta."
   ]
  },
  {
   "cell_type": "code",
   "execution_count": 68,
   "id": "e013a631",
   "metadata": {},
   "outputs": [
    {
     "data": {
      "text/plain": [
       "[<matplotlib.lines.Line2D at 0x1fdd265edc0>]"
      ]
     },
     "execution_count": 68,
     "metadata": {},
     "output_type": "execute_result"
    },
    {
     "data": {
      "image/png": "[encoded data removed]",
      "text/plain": [
       "<Figure size 432x288 with 1 Axes>"
      ]
     },
     "metadata": {
      "needs_background": "light"
     },
     "output_type": "display_data"
    }
   ],
   "source": [
    "%matplotlib inline\n",
    "\n",
    "cluster_2_df_covid_vih.plot(kind = \"scatter\", x = \"POBLACION\", y = \"MUERTES_VIH\")\n",
    "plt.plot(pd.DataFrame(cluster_2_df_covid_vih[\"POBLACION\"]), MUERTES_VIH_pred, c = \"red\", linewidth = 2)"
   ]
  },
  {
   "cell_type": "code",
   "execution_count": 69,
   "id": "52482b76",
   "metadata": {},
   "outputs": [],
   "source": [
    "cluster_2_df_covid_vih[\"MUERTES_VIH_pred\"] = 2667.214781 + 0.000108*cluster_2_df_covid_vih[\"POBLACION\"] # Se adiciona una columna de predicciones al dataset\n",
    "\n",
    "cluster_2_df_covid_vih[\"RSE\"] = (cluster_2_df_covid_vih[\"MUERTES_VIH\"]-cluster_2_df_covid_vih[\"MUERTES_VIH_pred\"])**2 # Se adiciona una columna del error al dataset"
   ]
  },
  {
   "cell_type": "code",
   "execution_count": 70,
   "id": "ab27037c",
   "metadata": {},
   "outputs": [
    {
     "data": {
      "text/plain": [
       "4784977477.678088"
      ]
     },
     "execution_count": 70,
     "metadata": {},
     "output_type": "execute_result"
    }
   ],
   "source": [
    "SSD = sum(cluster_2_df_covid_vih[\"RSE\"]) # Suma de los cuadrados de la diferencia\n",
    "SSD"
   ]
  },
  {
   "cell_type": "code",
   "execution_count": 71,
   "id": "9392ef27",
   "metadata": {},
   "outputs": [
    {
     "data": {
      "text/plain": [
       "8267.818400865308"
      ]
     },
     "execution_count": 71,
     "metadata": {},
     "output_type": "execute_result"
    }
   ],
   "source": [
    "RSE = np.sqrt(SSD/(len(cluster_2_df_covid_vih)-2)) # Desviacion tipida de los residuos\n",
    "RSE"
   ]
  },
  {
   "cell_type": "code",
   "execution_count": 72,
   "id": "654ea3af",
   "metadata": {},
   "outputs": [
    {
     "data": {
      "text/plain": [
       "5511.694444444444"
      ]
     },
     "execution_count": 72,
     "metadata": {},
     "output_type": "execute_result"
    }
   ],
   "source": [
    "MUERTES_VIH_mean = np.mean(cluster_2_df_covid_vih[\"MUERTES_VIH\"])\n",
    "MUERTES_VIH_mean"
   ]
  },
  {
   "cell_type": "code",
   "execution_count": 73,
   "id": "6b56547f",
   "metadata": {},
   "outputs": [
    {
     "data": {
      "text/plain": [
       "1.5000502085522758"
      ]
     },
     "execution_count": 73,
     "metadata": {},
     "output_type": "execute_result"
    }
   ],
   "source": [
    "error_promedio = RSE/MUERTES_VIH_mean\n",
    "error_promedio"
   ]
  },
  {
   "cell_type": "markdown",
   "id": "829496c2",
   "metadata": {},
   "source": [
    "El error indica que hay un 150% de la desviación tipica del modelo, que no queda explicado. Es decir, la relación entre las variables POBLACION Y MUERTES_VIH, no puede ser ajustado como un modelo lineal, a pesar que los p-valores hayan resultado con valores bajos."
   ]
  },
  {
   "cell_type": "code",
   "execution_count": 74,
   "id": "66e73701",
   "metadata": {},
   "outputs": [
    {
     "data": {
      "text/plain": [
       "(array([ 2.,  2., 13., 39.,  5.,  5.,  1.,  2.,  2.,  1.]),\n",
       " array([-18323.587501, -13295.508927,  -8267.430353,  -3239.351779,\n",
       "          1788.726795,   6816.805369,  11844.883943,  16872.962517,\n",
       "         21901.041091,  26929.119665,  31957.198239]),\n",
       " <BarContainer object of 10 artists>)"
      ]
     },
     "execution_count": 74,
     "metadata": {},
     "output_type": "execute_result"
    },
    {
     "data": {
      "image/png": "[encoded data removed]",
      "text/plain": [
       "<Figure size 432x288 with 1 Axes>"
      ]
     },
     "metadata": {
      "needs_background": "light"
     },
     "output_type": "display_data"
    }
   ],
   "source": [
    "plt.hist((cluster_2_df_covid_vih[\"MUERTES_VIH\"]-cluster_2_df_covid_vih[\"MUERTES_VIH_pred\"]))"
   ]
  },
  {
   "cell_type": "markdown",
   "id": "954b63db",
   "metadata": {},
   "source": [
    "Los errores, por consiguiente, siguen una distribución normal de media cero."
   ]
  },
  {
   "cell_type": "markdown",
   "id": "01262e7b",
   "metadata": {},
   "source": [
    "### Predicción de Muertes VIH en Función del Promedio de Edad"
   ]
  },
  {
   "cell_type": "code",
   "execution_count": 75,
   "id": "3bafd572",
   "metadata": {},
   "outputs": [],
   "source": [
    "lm2 = smf.ols(formula = \"MUERTES_VIH~PROMEDIO_EDAD\", data = cluster_2_df_covid_vih).fit()"
   ]
  },
  {
   "cell_type": "code",
   "execution_count": 76,
   "id": "d9683f56",
   "metadata": {},
   "outputs": [
    {
     "data": {
      "text/plain": [
       "Intercept        20000.738300\n",
       "PROMEDIO_EDAD     -673.473956\n",
       "dtype: float64"
      ]
     },
     "execution_count": 76,
     "metadata": {},
     "output_type": "execute_result"
    }
   ],
   "source": [
    "lm2.params"
   ]
  },
  {
   "cell_type": "code",
   "execution_count": 77,
   "id": "aacdb9c3",
   "metadata": {},
   "outputs": [
    {
     "data": {
      "text/plain": [
       "Intercept        0.000162\n",
       "PROMEDIO_EDAD    0.004267\n",
       "dtype: float64"
      ]
     },
     "execution_count": 77,
     "metadata": {},
     "output_type": "execute_result"
    }
   ],
   "source": [
    "lm2.pvalues"
   ]
  },
  {
   "cell_type": "code",
   "execution_count": 78,
   "id": "cc04a3e5",
   "metadata": {},
   "outputs": [
    {
     "data": {
      "text/plain": [
       "0.1108522807296286"
      ]
     },
     "execution_count": 78,
     "metadata": {},
     "output_type": "execute_result"
    }
   ],
   "source": [
    "lm2.rsquared"
   ]
  },
  {
   "cell_type": "code",
   "execution_count": 79,
   "id": "3ae64003",
   "metadata": {},
   "outputs": [
    {
     "data": {
      "text/html": [
       "<table class=\"simpletable\">\n",
       "<caption>OLS Regression Results</caption>\n",
       "<tr>\n",
       "  <th>Dep. Variable:</th>       <td>MUERTES_VIH</td>   <th>  R-squared:         </th> <td>   0.111</td>\n",
       "</tr>\n",
       "<tr>\n",
       "  <th>Model:</th>                   <td>OLS</td>       <th>  Adj. R-squared:    </th> <td>   0.098</td>\n",
       "</tr>\n",
       "<tr>\n",
       "  <th>Method:</th>             <td>Least Squares</td>  <th>  F-statistic:       </th> <td>   8.727</td>\n",
       "</tr>\n",
       "<tr>\n",
       "  <th>Date:</th>             <td>Fri, 04 Mar 2022</td> <th>  Prob (F-statistic):</th>  <td>0.00427</td>\n",
       "</tr>\n",
       "<tr>\n",
       "  <th>Time:</th>                 <td>08:12:32</td>     <th>  Log-Likelihood:    </th> <td> -756.14</td>\n",
       "</tr>\n",
       "<tr>\n",
       "  <th>No. Observations:</th>      <td>    72</td>      <th>  AIC:               </th> <td>   1516.</td>\n",
       "</tr>\n",
       "<tr>\n",
       "  <th>Df Residuals:</th>          <td>    70</td>      <th>  BIC:               </th> <td>   1521.</td>\n",
       "</tr>\n",
       "<tr>\n",
       "  <th>Df Model:</th>              <td>     1</td>      <th>                     </th>     <td> </td>   \n",
       "</tr>\n",
       "<tr>\n",
       "  <th>Covariance Type:</th>      <td>nonrobust</td>    <th>                     </th>     <td> </td>   \n",
       "</tr>\n",
       "</table>\n",
       "<table class=\"simpletable\">\n",
       "<tr>\n",
       "        <td></td>           <th>coef</th>     <th>std err</th>      <th>t</th>      <th>P>|t|</th>  <th>[0.025</th>    <th>0.975]</th>  \n",
       "</tr>\n",
       "<tr>\n",
       "  <th>Intercept</th>     <td>     2e+04</td> <td> 5016.232</td> <td>    3.987</td> <td> 0.000</td> <td> 9996.178</td> <td>    3e+04</td>\n",
       "</tr>\n",
       "<tr>\n",
       "  <th>PROMEDIO_EDAD</th> <td> -673.4740</td> <td>  227.975</td> <td>   -2.954</td> <td> 0.004</td> <td>-1128.155</td> <td> -218.793</td>\n",
       "</tr>\n",
       "</table>\n",
       "<table class=\"simpletable\">\n",
       "<tr>\n",
       "  <th>Omnibus:</th>       <td>54.977</td> <th>  Durbin-Watson:     </th> <td>   1.876</td>\n",
       "</tr>\n",
       "<tr>\n",
       "  <th>Prob(Omnibus):</th> <td> 0.000</td> <th>  Jarque-Bera (JB):  </th> <td> 211.735</td>\n",
       "</tr>\n",
       "<tr>\n",
       "  <th>Skew:</th>          <td> 2.428</td> <th>  Prob(JB):          </th> <td>1.05e-46</td>\n",
       "</tr>\n",
       "<tr>\n",
       "  <th>Kurtosis:</th>      <td> 9.855</td> <th>  Cond. No.          </th> <td>    105.</td>\n",
       "</tr>\n",
       "</table><br/><br/>Notes:<br/>[1] Standard Errors assume that the covariance matrix of the errors is correctly specified."
      ],
      "text/plain": [
       "<class 'statsmodels.iolib.summary.Summary'>\n",
       "\"\"\"\n",
       "                            OLS Regression Results                            \n",
       "==============================================================================\n",
       "Dep. Variable:            MUERTES_VIH   R-squared:                       0.111\n",
       "Model:                            OLS   Adj. R-squared:                  0.098\n",
       "Method:                 Least Squares   F-statistic:                     8.727\n",
       "Date:                Fri, 04 Mar 2022   Prob (F-statistic):            0.00427\n",
       "Time:                        08:12:32   Log-Likelihood:                -756.14\n",
       "No. Observations:                  72   AIC:                             1516.\n",
       "Df Residuals:                      70   BIC:                             1521.\n",
       "Df Model:                           1                                         \n",
       "Covariance Type:            nonrobust                                         \n",
       "=================================================================================\n",
       "                    coef    std err          t      P>|t|      [0.025      0.975]\n",
       "---------------------------------------------------------------------------------\n",
       "Intercept          2e+04   5016.232      3.987      0.000    9996.178       3e+04\n",
       "PROMEDIO_EDAD  -673.4740    227.975     -2.954      0.004   -1128.155    -218.793\n",
       "==============================================================================\n",
       "Omnibus:                       54.977   Durbin-Watson:                   1.876\n",
       "Prob(Omnibus):                  0.000   Jarque-Bera (JB):              211.735\n",
       "Skew:                           2.428   Prob(JB):                     1.05e-46\n",
       "Kurtosis:                       9.855   Cond. No.                         105.\n",
       "==============================================================================\n",
       "\n",
       "Notes:\n",
       "[1] Standard Errors assume that the covariance matrix of the errors is correctly specified.\n",
       "\"\"\""
      ]
     },
     "execution_count": 79,
     "metadata": {},
     "output_type": "execute_result"
    }
   ],
   "source": [
    "lm2.summary()"
   ]
  },
  {
   "cell_type": "code",
   "execution_count": 80,
   "id": "aaff1594",
   "metadata": {},
   "outputs": [],
   "source": [
    "MUERTES_VIH_pred_2 = lm2.predict(pd.DataFrame(cluster_2_df_covid_vih[\"PROMEDIO_EDAD\"]))"
   ]
  },
  {
   "cell_type": "code",
   "execution_count": 81,
   "id": "35c4aee7",
   "metadata": {},
   "outputs": [
    {
     "data": {
      "text/plain": [
       "[<matplotlib.lines.Line2D at 0x1fdd2772280>]"
      ]
     },
     "execution_count": 81,
     "metadata": {},
     "output_type": "execute_result"
    },
    {
     "data": {
      "image/png": "[encoded data removed]",
      "text/plain": [
       "<Figure size 432x288 with 1 Axes>"
      ]
     },
     "metadata": {
      "needs_background": "light"
     },
     "output_type": "display_data"
    }
   ],
   "source": [
    "%matplotlib inline\n",
    "\n",
    "cluster_2_df_covid_vih.plot(kind = \"scatter\", x = \"PROMEDIO_EDAD\", y = \"MUERTES_VIH\")\n",
    "plt.plot(pd.DataFrame(cluster_2_df_covid_vih[\"PROMEDIO_EDAD\"]), MUERTES_VIH_pred_2, c = \"red\", linewidth = 2)"
   ]
  },
  {
   "cell_type": "code",
   "execution_count": 82,
   "id": "f3f080c3",
   "metadata": {},
   "outputs": [],
   "source": [
    "cluster_2_df_covid_vih[\"MUERTES_VIH_pred_2\"] = 20000.738300 - 673.473956*cluster_2_df_covid_vih[\"PROMEDIO_EDAD\"] # Se adiciona una columna de predicciones al dataset\n",
    "\n",
    "cluster_2_df_covid_vih[\"RSE2\"] = (cluster_2_df_covid_vih[\"MUERTES_VIH\"]-cluster_2_df_covid_vih[\"MUERTES_VIH_pred_2\"])**2 # Se adiciona una columna del error al dataset"
   ]
  },
  {
   "cell_type": "code",
   "execution_count": 83,
   "id": "22f801ee",
   "metadata": {},
   "outputs": [
    {
     "data": {
      "text/plain": [
       "5580746873.289362"
      ]
     },
     "execution_count": 83,
     "metadata": {},
     "output_type": "execute_result"
    }
   ],
   "source": [
    "SSD2 = sum(cluster_2_df_covid_vih[\"RSE2\"]) # Suma de los cuadrados de la diferencia\n",
    "SSD2"
   ]
  },
  {
   "cell_type": "code",
   "execution_count": 84,
   "id": "1062d4dc",
   "metadata": {},
   "outputs": [
    {
     "data": {
      "text/plain": [
       "8928.883207473664"
      ]
     },
     "execution_count": 84,
     "metadata": {},
     "output_type": "execute_result"
    }
   ],
   "source": [
    "RSE2 = np.sqrt(SSD2/(len(cluster_2_df_covid_vih)-2)) # Desviacion tipida de los residuos\n",
    "RSE2"
   ]
  },
  {
   "cell_type": "code",
   "execution_count": 85,
   "id": "39fa44b4",
   "metadata": {},
   "outputs": [
    {
     "data": {
      "text/plain": [
       "5511.694444444444"
      ]
     },
     "execution_count": 85,
     "metadata": {},
     "output_type": "execute_result"
    }
   ],
   "source": [
    "MUERTES_VIH_mean_2 = np.mean(cluster_2_df_covid_vih[\"MUERTES_VIH\"])\n",
    "MUERTES_VIH_mean_2"
   ]
  },
  {
   "cell_type": "code",
   "execution_count": 86,
   "id": "751baf62",
   "metadata": {},
   "outputs": [
    {
     "data": {
      "text/plain": [
       "1.6199887888330968"
      ]
     },
     "execution_count": 86,
     "metadata": {},
     "output_type": "execute_result"
    }
   ],
   "source": [
    "error_promedio_2 = RSE2/MUERTES_VIH_mean_2\n",
    "error_promedio_2"
   ]
  },
  {
   "cell_type": "code",
   "execution_count": 87,
   "id": "5fc862ee",
   "metadata": {},
   "outputs": [
    {
     "data": {
      "text/plain": [
       "(array([30., 23.,  7.,  5.,  4.,  0.,  1.,  1.,  0.,  1.]),\n",
       " array([-8798.62896  , -3806.5867732,  1185.4554136,  6177.4976004,\n",
       "        11169.5397872, 16161.581974 , 21153.6241608, 26145.6663476,\n",
       "        31137.7085344, 36129.7507212, 41121.792908 ]),\n",
       " <BarContainer object of 10 artists>)"
      ]
     },
     "execution_count": 87,
     "metadata": {},
     "output_type": "execute_result"
    },
    {
     "data": {
      "image/png": "[encoded data removed]",
      "text/plain": [
       "<Figure size 432x288 with 1 Axes>"
      ]
     },
     "metadata": {
      "needs_background": "light"
     },
     "output_type": "display_data"
    }
   ],
   "source": [
    "plt.hist((cluster_2_df_covid_vih[\"MUERTES_VIH\"]-cluster_2_df_covid_vih[\"MUERTES_VIH_pred_2\"]))"
   ]
  },
  {
   "cell_type": "markdown",
   "id": "4776572b",
   "metadata": {},
   "source": [
    "### Predicción de Muertes VIH en Función de la Cobertura de Terapia Para el VIH"
   ]
  },
  {
   "cell_type": "code",
   "execution_count": 88,
   "id": "7891dae0",
   "metadata": {},
   "outputs": [],
   "source": [
    "lm3 = smf.ols(formula = \"MUERTES_VIH~COVERTURA_TERAPIA_VIH\", data = cluster_2_df_covid_vih).fit()"
   ]
  },
  {
   "cell_type": "code",
   "execution_count": 89,
   "id": "7897d3a6",
   "metadata": {},
   "outputs": [
    {
     "data": {
      "text/plain": [
       "Intercept               -1374.516395\n",
       "COVERTURA_TERAPIA_VIH     131.793509\n",
       "dtype: float64"
      ]
     },
     "execution_count": 89,
     "metadata": {},
     "output_type": "execute_result"
    }
   ],
   "source": [
    "lm3.params"
   ]
  },
  {
   "cell_type": "code",
   "execution_count": 90,
   "id": "f671fdb5",
   "metadata": {},
   "outputs": [
    {
     "data": {
      "text/plain": [
       "Intercept                0.529224\n",
       "COVERTURA_TERAPIA_VIH    0.000604\n",
       "dtype: float64"
      ]
     },
     "execution_count": 90,
     "metadata": {},
     "output_type": "execute_result"
    }
   ],
   "source": [
    "lm3.pvalues"
   ]
  },
  {
   "cell_type": "code",
   "execution_count": 91,
   "id": "d47b75b6",
   "metadata": {},
   "outputs": [
    {
     "data": {
      "text/plain": [
       "0.15569725027790715"
      ]
     },
     "execution_count": 91,
     "metadata": {},
     "output_type": "execute_result"
    }
   ],
   "source": [
    "lm3.rsquared"
   ]
  },
  {
   "cell_type": "code",
   "execution_count": 92,
   "id": "f46a743e",
   "metadata": {},
   "outputs": [
    {
     "data": {
      "text/html": [
       "<table class=\"simpletable\">\n",
       "<caption>OLS Regression Results</caption>\n",
       "<tr>\n",
       "  <th>Dep. Variable:</th>       <td>MUERTES_VIH</td>   <th>  R-squared:         </th> <td>   0.156</td>\n",
       "</tr>\n",
       "<tr>\n",
       "  <th>Model:</th>                   <td>OLS</td>       <th>  Adj. R-squared:    </th> <td>   0.144</td>\n",
       "</tr>\n",
       "<tr>\n",
       "  <th>Method:</th>             <td>Least Squares</td>  <th>  F-statistic:       </th> <td>   12.91</td>\n",
       "</tr>\n",
       "<tr>\n",
       "  <th>Date:</th>             <td>Fri, 04 Mar 2022</td> <th>  Prob (F-statistic):</th> <td>0.000604</td>\n",
       "</tr>\n",
       "<tr>\n",
       "  <th>Time:</th>                 <td>08:12:43</td>     <th>  Log-Likelihood:    </th> <td> -754.27</td>\n",
       "</tr>\n",
       "<tr>\n",
       "  <th>No. Observations:</th>      <td>    72</td>      <th>  AIC:               </th> <td>   1513.</td>\n",
       "</tr>\n",
       "<tr>\n",
       "  <th>Df Residuals:</th>          <td>    70</td>      <th>  BIC:               </th> <td>   1517.</td>\n",
       "</tr>\n",
       "<tr>\n",
       "  <th>Df Model:</th>              <td>     1</td>      <th>                     </th>     <td> </td>   \n",
       "</tr>\n",
       "<tr>\n",
       "  <th>Covariance Type:</th>      <td>nonrobust</td>    <th>                     </th>     <td> </td>   \n",
       "</tr>\n",
       "</table>\n",
       "<table class=\"simpletable\">\n",
       "<tr>\n",
       "            <td></td>               <th>coef</th>     <th>std err</th>      <th>t</th>      <th>P>|t|</th>  <th>[0.025</th>    <th>0.975]</th>  \n",
       "</tr>\n",
       "<tr>\n",
       "  <th>Intercept</th>             <td>-1374.5164</td> <td> 2173.693</td> <td>   -0.632</td> <td> 0.529</td> <td>-5709.811</td> <td> 2960.778</td>\n",
       "</tr>\n",
       "<tr>\n",
       "  <th>COVERTURA_TERAPIA_VIH</th> <td>  131.7935</td> <td>   36.682</td> <td>    3.593</td> <td> 0.001</td> <td>   58.633</td> <td>  204.954</td>\n",
       "</tr>\n",
       "</table>\n",
       "<table class=\"simpletable\">\n",
       "<tr>\n",
       "  <th>Omnibus:</th>       <td>50.883</td> <th>  Durbin-Watson:     </th> <td>   1.755</td>\n",
       "</tr>\n",
       "<tr>\n",
       "  <th>Prob(Omnibus):</th> <td> 0.000</td> <th>  Jarque-Bera (JB):  </th> <td> 179.425</td>\n",
       "</tr>\n",
       "<tr>\n",
       "  <th>Skew:</th>          <td> 2.248</td> <th>  Prob(JB):          </th> <td>1.09e-39</td>\n",
       "</tr>\n",
       "<tr>\n",
       "  <th>Kurtosis:</th>      <td> 9.293</td> <th>  Cond. No.          </th> <td>    126.</td>\n",
       "</tr>\n",
       "</table><br/><br/>Notes:<br/>[1] Standard Errors assume that the covariance matrix of the errors is correctly specified."
      ],
      "text/plain": [
       "<class 'statsmodels.iolib.summary.Summary'>\n",
       "\"\"\"\n",
       "                            OLS Regression Results                            \n",
       "==============================================================================\n",
       "Dep. Variable:            MUERTES_VIH   R-squared:                       0.156\n",
       "Model:                            OLS   Adj. R-squared:                  0.144\n",
       "Method:                 Least Squares   F-statistic:                     12.91\n",
       "Date:                Fri, 04 Mar 2022   Prob (F-statistic):           0.000604\n",
       "Time:                        08:12:43   Log-Likelihood:                -754.27\n",
       "No. Observations:                  72   AIC:                             1513.\n",
       "Df Residuals:                      70   BIC:                             1517.\n",
       "Df Model:                           1                                         \n",
       "Covariance Type:            nonrobust                                         \n",
       "=========================================================================================\n",
       "                            coef    std err          t      P>|t|      [0.025      0.975]\n",
       "-----------------------------------------------------------------------------------------\n",
       "Intercept             -1374.5164   2173.693     -0.632      0.529   -5709.811    2960.778\n",
       "COVERTURA_TERAPIA_VIH   131.7935     36.682      3.593      0.001      58.633     204.954\n",
       "==============================================================================\n",
       "Omnibus:                       50.883   Durbin-Watson:                   1.755\n",
       "Prob(Omnibus):                  0.000   Jarque-Bera (JB):              179.425\n",
       "Skew:                           2.248   Prob(JB):                     1.09e-39\n",
       "Kurtosis:                       9.293   Cond. No.                         126.\n",
       "==============================================================================\n",
       "\n",
       "Notes:\n",
       "[1] Standard Errors assume that the covariance matrix of the errors is correctly specified.\n",
       "\"\"\""
      ]
     },
     "execution_count": 92,
     "metadata": {},
     "output_type": "execute_result"
    }
   ],
   "source": [
    "lm3.summary()"
   ]
  },
  {
   "cell_type": "code",
   "execution_count": 93,
   "id": "ba517512",
   "metadata": {},
   "outputs": [],
   "source": [
    "MUERTES_VIH_pred_3 = lm3.predict(pd.DataFrame(cluster_2_df_covid_vih[\"COVERTURA_TERAPIA_VIH\"]))"
   ]
  },
  {
   "cell_type": "code",
   "execution_count": 94,
   "id": "d54544ae",
   "metadata": {},
   "outputs": [
    {
     "data": {
      "text/plain": [
       "[<matplotlib.lines.Line2D at 0x1fdd2872460>]"
      ]
     },
     "execution_count": 94,
     "metadata": {},
     "output_type": "execute_result"
    },
    {
     "data": {
      "image/png": "[encoded data removed]",
      "text/plain": [
       "<Figure size 432x288 with 1 Axes>"
      ]
     },
     "metadata": {
      "needs_background": "light"
     },
     "output_type": "display_data"
    }
   ],
   "source": [
    "%matplotlib inline\n",
    "\n",
    "cluster_2_df_covid_vih.plot(kind = \"scatter\", x = \"COVERTURA_TERAPIA_VIH\", y = \"MUERTES_VIH\")\n",
    "plt.plot(pd.DataFrame(cluster_2_df_covid_vih[\"COVERTURA_TERAPIA_VIH\"]), MUERTES_VIH_pred_3, c = \"red\", linewidth = 2)"
   ]
  },
  {
   "cell_type": "code",
   "execution_count": 95,
   "id": "214c53c1",
   "metadata": {},
   "outputs": [],
   "source": [
    "cluster_2_df_covid_vih[\"MUERTES_VIH_pred_3\"] = - 1374.516395 + 131.793509*cluster_2_df_covid_vih[\"COVERTURA_TERAPIA_VIH\"] # Se adiciona una columna de predicciones al dataset\n",
    "\n",
    "cluster_2_df_covid_vih[\"RSE3\"] = (cluster_2_df_covid_vih[\"MUERTES_VIH\"]-cluster_2_df_covid_vih[\"MUERTES_VIH_pred_3\"])**2 # Se adiciona una columna del error al dataset"
   ]
  },
  {
   "cell_type": "code",
   "execution_count": 96,
   "id": "4441bd6e",
   "metadata": {},
   "outputs": [
    {
     "data": {
      "text/plain": [
       "5299276856.367222"
      ]
     },
     "execution_count": 96,
     "metadata": {},
     "output_type": "execute_result"
    }
   ],
   "source": [
    "SSD3 = sum(cluster_2_df_covid_vih[\"RSE3\"]) # Suma de los cuadrados de la diferencia\n",
    "SSD3"
   ]
  },
  {
   "cell_type": "code",
   "execution_count": 97,
   "id": "9589adad",
   "metadata": {},
   "outputs": [
    {
     "data": {
      "text/plain": [
       "8700.801979757976"
      ]
     },
     "execution_count": 97,
     "metadata": {},
     "output_type": "execute_result"
    }
   ],
   "source": [
    "RSE3 = np.sqrt(SSD3/(len(cluster_2_df_covid_vih)-2)) # Desviacion tipida de los residuos\n",
    "RSE3\n"
   ]
  },
  {
   "cell_type": "code",
   "execution_count": 98,
   "id": "da1adf28",
   "metadata": {},
   "outputs": [
    {
     "data": {
      "text/plain": [
       "5511.694444444444"
      ]
     },
     "execution_count": 98,
     "metadata": {},
     "output_type": "execute_result"
    }
   ],
   "source": [
    "MUERTES_VIH_mean_3 = np.mean(cluster_2_df_covid_vih[\"MUERTES_VIH\"])\n",
    "MUERTES_VIH_mean_3"
   ]
  },
  {
   "cell_type": "code",
   "execution_count": 99,
   "id": "74ca7d62",
   "metadata": {},
   "outputs": [
    {
     "data": {
      "text/plain": [
       "1.5786074622710657"
      ]
     },
     "execution_count": 99,
     "metadata": {},
     "output_type": "execute_result"
    }
   ],
   "source": [
    "error_promedio_3 = RSE3/MUERTES_VIH_mean_3\n",
    "error_promedio_3"
   ]
  },
  {
   "cell_type": "code",
   "execution_count": 100,
   "id": "1cb45041",
   "metadata": {},
   "outputs": [
    {
     "data": {
      "text/plain": [
       "(array([31., 14., 15.,  5.,  4.,  0.,  1.,  0.,  1.,  1.]),\n",
       " array([-8523.312397 , -3766.9536952,   989.4050066,  5745.7637084,\n",
       "        10502.1224102, 15258.481112 , 20014.8398138, 24771.1985156,\n",
       "        29527.5572174, 34283.9159192, 39040.274621 ]),\n",
       " <BarContainer object of 10 artists>)"
      ]
     },
     "execution_count": 100,
     "metadata": {},
     "output_type": "execute_result"
    },
    {
     "data": {
      "image/png": "[encoded data removed]",
      "text/plain": [
       "<Figure size 432x288 with 1 Axes>"
      ]
     },
     "metadata": {
      "needs_background": "light"
     },
     "output_type": "display_data"
    }
   ],
   "source": [
    "plt.hist((cluster_2_df_covid_vih[\"MUERTES_VIH\"]-cluster_2_df_covid_vih[\"MUERTES_VIH_pred_3\"]))"
   ]
  },
  {
   "cell_type": "markdown",
   "id": "3e792a93",
   "metadata": {},
   "source": [
    "### Predicción de Muertes VIH en Función de la Tasa de Mortalidad"
   ]
  },
  {
   "cell_type": "code",
   "execution_count": 101,
   "id": "36fbef57",
   "metadata": {},
   "outputs": [],
   "source": [
    "lm4 = smf.ols(formula = \"MUERTES_VIH~TASA_MORTALIDAD\", data = cluster_2_df_covid_vih).fit()"
   ]
  },
  {
   "cell_type": "code",
   "execution_count": 102,
   "id": "a4994e64",
   "metadata": {},
   "outputs": [
    {
     "data": {
      "text/plain": [
       "Intercept          6601.773423\n",
       "TASA_MORTALIDAD    -113.659410\n",
       "dtype: float64"
      ]
     },
     "execution_count": 102,
     "metadata": {},
     "output_type": "execute_result"
    }
   ],
   "source": [
    "lm4.params"
   ]
  },
  {
   "cell_type": "code",
   "execution_count": 103,
   "id": "d4aae7fe",
   "metadata": {},
   "outputs": [
    {
     "data": {
      "text/plain": [
       "Intercept          0.000001\n",
       "TASA_MORTALIDAD    0.063049\n",
       "dtype: float64"
      ]
     },
     "execution_count": 103,
     "metadata": {},
     "output_type": "execute_result"
    }
   ],
   "source": [
    "lm4.pvalues"
   ]
  },
  {
   "cell_type": "code",
   "execution_count": 104,
   "id": "52bc7234",
   "metadata": {},
   "outputs": [
    {
     "data": {
      "text/plain": [
       "0.04849847731310075"
      ]
     },
     "execution_count": 104,
     "metadata": {},
     "output_type": "execute_result"
    }
   ],
   "source": [
    "lm4.rsquared"
   ]
  },
  {
   "cell_type": "code",
   "execution_count": 105,
   "id": "98d7f7dd",
   "metadata": {},
   "outputs": [
    {
     "data": {
      "text/html": [
       "<table class=\"simpletable\">\n",
       "<caption>OLS Regression Results</caption>\n",
       "<tr>\n",
       "  <th>Dep. Variable:</th>       <td>MUERTES_VIH</td>   <th>  R-squared:         </th> <td>   0.048</td>\n",
       "</tr>\n",
       "<tr>\n",
       "  <th>Model:</th>                   <td>OLS</td>       <th>  Adj. R-squared:    </th> <td>   0.035</td>\n",
       "</tr>\n",
       "<tr>\n",
       "  <th>Method:</th>             <td>Least Squares</td>  <th>  F-statistic:       </th> <td>   3.568</td>\n",
       "</tr>\n",
       "<tr>\n",
       "  <th>Date:</th>             <td>Fri, 04 Mar 2022</td> <th>  Prob (F-statistic):</th>  <td>0.0630</td> \n",
       "</tr>\n",
       "<tr>\n",
       "  <th>Time:</th>                 <td>08:12:56</td>     <th>  Log-Likelihood:    </th> <td> -758.58</td>\n",
       "</tr>\n",
       "<tr>\n",
       "  <th>No. Observations:</th>      <td>    72</td>      <th>  AIC:               </th> <td>   1521.</td>\n",
       "</tr>\n",
       "<tr>\n",
       "  <th>Df Residuals:</th>          <td>    70</td>      <th>  BIC:               </th> <td>   1526.</td>\n",
       "</tr>\n",
       "<tr>\n",
       "  <th>Df Model:</th>              <td>     1</td>      <th>                     </th>     <td> </td>   \n",
       "</tr>\n",
       "<tr>\n",
       "  <th>Covariance Type:</th>      <td>nonrobust</td>    <th>                     </th>     <td> </td>   \n",
       "</tr>\n",
       "</table>\n",
       "<table class=\"simpletable\">\n",
       "<tr>\n",
       "         <td></td>            <th>coef</th>     <th>std err</th>      <th>t</th>      <th>P>|t|</th>  <th>[0.025</th>    <th>0.975]</th>  \n",
       "</tr>\n",
       "<tr>\n",
       "  <th>Intercept</th>       <td> 6601.7734</td> <td> 1232.065</td> <td>    5.358</td> <td> 0.000</td> <td> 4144.497</td> <td> 9059.050</td>\n",
       "</tr>\n",
       "<tr>\n",
       "  <th>TASA_MORTALIDAD</th> <td> -113.6594</td> <td>   60.172</td> <td>   -1.889</td> <td> 0.063</td> <td> -233.669</td> <td>    6.351</td>\n",
       "</tr>\n",
       "</table>\n",
       "<table class=\"simpletable\">\n",
       "<tr>\n",
       "  <th>Omnibus:</th>       <td>56.715</td> <th>  Durbin-Watson:     </th> <td>   1.875</td>\n",
       "</tr>\n",
       "<tr>\n",
       "  <th>Prob(Omnibus):</th> <td> 0.000</td> <th>  Jarque-Bera (JB):  </th> <td> 222.820</td>\n",
       "</tr>\n",
       "<tr>\n",
       "  <th>Skew:</th>          <td> 2.520</td> <th>  Prob(JB):          </th> <td>4.12e-49</td>\n",
       "</tr>\n",
       "<tr>\n",
       "  <th>Kurtosis:</th>      <td> 9.991</td> <th>  Cond. No.          </th> <td>    23.2</td>\n",
       "</tr>\n",
       "</table><br/><br/>Notes:<br/>[1] Standard Errors assume that the covariance matrix of the errors is correctly specified."
      ],
      "text/plain": [
       "<class 'statsmodels.iolib.summary.Summary'>\n",
       "\"\"\"\n",
       "                            OLS Regression Results                            \n",
       "==============================================================================\n",
       "Dep. Variable:            MUERTES_VIH   R-squared:                       0.048\n",
       "Model:                            OLS   Adj. R-squared:                  0.035\n",
       "Method:                 Least Squares   F-statistic:                     3.568\n",
       "Date:                Fri, 04 Mar 2022   Prob (F-statistic):             0.0630\n",
       "Time:                        08:12:56   Log-Likelihood:                -758.58\n",
       "No. Observations:                  72   AIC:                             1521.\n",
       "Df Residuals:                      70   BIC:                             1526.\n",
       "Df Model:                           1                                         \n",
       "Covariance Type:            nonrobust                                         \n",
       "===================================================================================\n",
       "                      coef    std err          t      P>|t|      [0.025      0.975]\n",
       "-----------------------------------------------------------------------------------\n",
       "Intercept        6601.7734   1232.065      5.358      0.000    4144.497    9059.050\n",
       "TASA_MORTALIDAD  -113.6594     60.172     -1.889      0.063    -233.669       6.351\n",
       "==============================================================================\n",
       "Omnibus:                       56.715   Durbin-Watson:                   1.875\n",
       "Prob(Omnibus):                  0.000   Jarque-Bera (JB):              222.820\n",
       "Skew:                           2.520   Prob(JB):                     4.12e-49\n",
       "Kurtosis:                       9.991   Cond. No.                         23.2\n",
       "==============================================================================\n",
       "\n",
       "Notes:\n",
       "[1] Standard Errors assume that the covariance matrix of the errors is correctly specified.\n",
       "\"\"\""
      ]
     },
     "execution_count": 105,
     "metadata": {},
     "output_type": "execute_result"
    }
   ],
   "source": [
    "lm4.summary()"
   ]
  },
  {
   "cell_type": "code",
   "execution_count": 106,
   "id": "a89ec6d4",
   "metadata": {},
   "outputs": [],
   "source": [
    "MUERTES_VIH_pred_4 = lm4.predict(pd.DataFrame(cluster_2_df_covid_vih[\"TASA_MORTALIDAD\"]))"
   ]
  },
  {
   "cell_type": "code",
   "execution_count": 107,
   "id": "48676c23",
   "metadata": {},
   "outputs": [
    {
     "data": {
      "text/plain": [
       "[<matplotlib.lines.Line2D at 0x1fdd296e6a0>]"
      ]
     },
     "execution_count": 107,
     "metadata": {},
     "output_type": "execute_result"
    },
    {
     "data": {
      "image/png": "[encoded data removed]",
      "text/plain": [
       "<Figure size 432x288 with 1 Axes>"
      ]
     },
     "metadata": {
      "needs_background": "light"
     },
     "output_type": "display_data"
    }
   ],
   "source": [
    "%matplotlib inline\n",
    "\n",
    "cluster_2_df_covid_vih.plot(kind = \"scatter\", x = \"TASA_MORTALIDAD\", y = \"MUERTES_VIH\")\n",
    "plt.plot(pd.DataFrame(cluster_2_df_covid_vih[\"TASA_MORTALIDAD\"]), MUERTES_VIH_pred_4, c = \"red\", linewidth = 2)"
   ]
  },
  {
   "cell_type": "code",
   "execution_count": 108,
   "id": "f66d69d4",
   "metadata": {},
   "outputs": [],
   "source": [
    "cluster_2_df_covid_vih[\"MUERTES_VIH_pred_4\"] = 6601.773423 - 113.659410*cluster_2_df_covid_vih[\"TASA_MORTALIDAD\"] # Se adiciona una columna de predicciones al dataset\n",
    "\n",
    "cluster_2_df_covid_vih[\"RSE4\"] = (cluster_2_df_covid_vih[\"MUERTES_VIH\"]-cluster_2_df_covid_vih[\"MUERTES_VIH_pred_4\"])**2 # Se adiciona una columna del error al dataset\n"
   ]
  },
  {
   "cell_type": "code",
   "execution_count": 109,
   "id": "38527b66",
   "metadata": {},
   "outputs": [
    {
     "data": {
      "text/plain": [
       "5972111306.794331"
      ]
     },
     "execution_count": 109,
     "metadata": {},
     "output_type": "execute_result"
    }
   ],
   "source": [
    "SSD4 = sum(cluster_2_df_covid_vih[\"RSE4\"]) # Suma de los cuadrados de la diferencia\n",
    "SSD4"
   ]
  },
  {
   "cell_type": "code",
   "execution_count": 110,
   "id": "efb3b2d2",
   "metadata": {},
   "outputs": [
    {
     "data": {
      "text/plain": [
       "9236.65934260583"
      ]
     },
     "execution_count": 110,
     "metadata": {},
     "output_type": "execute_result"
    }
   ],
   "source": [
    "RSE4 = np.sqrt(SSD4/(len(cluster_2_df_covid_vih)-2)) # Desviacion tipida de los residuos\n",
    "RSE4"
   ]
  },
  {
   "cell_type": "code",
   "execution_count": 111,
   "id": "88f53917",
   "metadata": {},
   "outputs": [
    {
     "data": {
      "text/plain": [
       "5511.694444444444"
      ]
     },
     "execution_count": 111,
     "metadata": {},
     "output_type": "execute_result"
    }
   ],
   "source": [
    "MUERTES_VIH_mean_4 = np.mean(cluster_2_df_covid_vih[\"MUERTES_VIH\"])\n",
    "MUERTES_VIH_mean_4"
   ]
  },
  {
   "cell_type": "code",
   "execution_count": 112,
   "id": "e999a175",
   "metadata": {},
   "outputs": [
    {
     "data": {
      "text/plain": [
       "1.6758293544222127"
      ]
     },
     "execution_count": 112,
     "metadata": {},
     "output_type": "execute_result"
    }
   ],
   "source": [
    "error_promedio_4 = RSE4/MUERTES_VIH_mean_4\n",
    "error_promedio_4"
   ]
  },
  {
   "cell_type": "code",
   "execution_count": 113,
   "id": "326efb7b",
   "metadata": {},
   "outputs": [
    {
     "data": {
      "text/plain": [
       "(array([49.,  9.,  5.,  3.,  3.,  0.,  1.,  1.,  0.,  1.]),\n",
       " array([-6601.773423  , -1695.17351105,  3211.42640091,  8118.02631286,\n",
       "        13024.62622482, 17931.22613677, 22837.82604873, 27744.42596068,\n",
       "        32651.02587263, 37557.62578459, 42464.22569654]),\n",
       " <BarContainer object of 10 artists>)"
      ]
     },
     "execution_count": 113,
     "metadata": {},
     "output_type": "execute_result"
    },
    {
     "data": {
      "image/png": "[encoded data removed]",
      "text/plain": [
       "<Figure size 432x288 with 1 Axes>"
      ]
     },
     "metadata": {
      "needs_background": "light"
     },
     "output_type": "display_data"
    }
   ],
   "source": [
    "plt.hist((cluster_2_df_covid_vih[\"MUERTES_VIH\"]-cluster_2_df_covid_vih[\"MUERTES_VIH_pred_4\"]))"
   ]
  },
  {
   "cell_type": "markdown",
   "id": "0afa84df",
   "metadata": {},
   "source": [
    "## Regresión Lineal Múltiple\n",
    "\n",
    "En razón a que el modelo lineal creado, no presentó los resultados esperados con el uso del atributo \"POBLACION\" que tiene el mayor valor para el coeficiente de correlación, se construirá un modelo de regresión lineal múltiple, usando las variables en conjunto, que obtuvieron un mayor nivel de coeficiente de correlación."
   ]
  },
  {
   "cell_type": "markdown",
   "id": "39860bda",
   "metadata": {},
   "source": [
    "Se procederá entonces a utilizar el modelo anterior y añadir una variable, para calcular nuevamente el modelo y verificar si el error residual de suma de los cuadrados residuales disminuye. La combinación de las variables que genere el menor error, será el modelo de regresión lineal múltiple escogido."
   ]
  },
  {
   "cell_type": "code",
   "execution_count": 114,
   "id": "42c353a7",
   "metadata": {},
   "outputs": [
    {
     "data": {
      "text/plain": [
       "['POBLACION', 'PROMEDIO_EDAD', 'COVERTURA_TERAPIA_VIH', 'TASA_MORTALIDAD']"
      ]
     },
     "execution_count": 114,
     "metadata": {},
     "output_type": "execute_result"
    }
   ],
   "source": [
    "crr_select # Atributos con mayor valor para el coeficiente de correlación"
   ]
  },
  {
   "cell_type": "markdown",
   "id": "c3f52a2f",
   "metadata": {},
   "source": [
    "### Predicción de Muertes VIH en Función de la Población + Cobertura Terapia de VIH"
   ]
  },
  {
   "cell_type": "markdown",
   "id": "72d71e76",
   "metadata": {},
   "source": [
    "Se adiciona una segunda variable, al modelo construido con el atributo de POBLACIÓN, con el fin de mejorar el modelo. El segundo atributo con mejores resultados es COVERTURA_TERAPIA_VIH."
   ]
  },
  {
   "cell_type": "code",
   "execution_count": 115,
   "id": "cab9c505",
   "metadata": {},
   "outputs": [],
   "source": [
    "lm5 = smf.ols(formula = \"MUERTES_VIH~POBLACION+COVERTURA_TERAPIA_VIH\", data = cluster_2_df_covid_vih).fit()"
   ]
  },
  {
   "cell_type": "code",
   "execution_count": 116,
   "id": "d0054ac2",
   "metadata": {},
   "outputs": [
    {
     "data": {
      "text/plain": [
       "Intercept               -3503.386686\n",
       "POBLACION                   0.000103\n",
       "COVERTURA_TERAPIA_VIH     120.941337\n",
       "dtype: float64"
      ]
     },
     "execution_count": 116,
     "metadata": {},
     "output_type": "execute_result"
    }
   ],
   "source": [
    "lm5.params"
   ]
  },
  {
   "cell_type": "code",
   "execution_count": 117,
   "id": "3bcaceb1",
   "metadata": {},
   "outputs": [
    {
     "data": {
      "text/plain": [
       "Intercept                0.076033\n",
       "POBLACION                0.000008\n",
       "COVERTURA_TERAPIA_VIH    0.000336\n",
       "dtype: float64"
      ]
     },
     "execution_count": 117,
     "metadata": {},
     "output_type": "execute_result"
    }
   ],
   "source": [
    "lm5.pvalues"
   ]
  },
  {
   "cell_type": "code",
   "execution_count": 118,
   "id": "e2bd1352",
   "metadata": {},
   "outputs": [
    {
     "data": {
      "text/plain": [
       "0.368101993714151"
      ]
     },
     "execution_count": 118,
     "metadata": {},
     "output_type": "execute_result"
    }
   ],
   "source": [
    "lm5.rsquared"
   ]
  },
  {
   "cell_type": "code",
   "execution_count": 119,
   "id": "ef980511",
   "metadata": {},
   "outputs": [
    {
     "data": {
      "text/html": [
       "<table class=\"simpletable\">\n",
       "<caption>OLS Regression Results</caption>\n",
       "<tr>\n",
       "  <th>Dep. Variable:</th>       <td>MUERTES_VIH</td>   <th>  R-squared:         </th> <td>   0.368</td>\n",
       "</tr>\n",
       "<tr>\n",
       "  <th>Model:</th>                   <td>OLS</td>       <th>  Adj. R-squared:    </th> <td>   0.350</td>\n",
       "</tr>\n",
       "<tr>\n",
       "  <th>Method:</th>             <td>Least Squares</td>  <th>  F-statistic:       </th> <td>   20.10</td>\n",
       "</tr>\n",
       "<tr>\n",
       "  <th>Date:</th>             <td>Fri, 04 Mar 2022</td> <th>  Prob (F-statistic):</th> <td>1.33e-07</td>\n",
       "</tr>\n",
       "<tr>\n",
       "  <th>Time:</th>                 <td>08:13:09</td>     <th>  Log-Likelihood:    </th> <td> -743.84</td>\n",
       "</tr>\n",
       "<tr>\n",
       "  <th>No. Observations:</th>      <td>    72</td>      <th>  AIC:               </th> <td>   1494.</td>\n",
       "</tr>\n",
       "<tr>\n",
       "  <th>Df Residuals:</th>          <td>    69</td>      <th>  BIC:               </th> <td>   1501.</td>\n",
       "</tr>\n",
       "<tr>\n",
       "  <th>Df Model:</th>              <td>     2</td>      <th>                     </th>     <td> </td>   \n",
       "</tr>\n",
       "<tr>\n",
       "  <th>Covariance Type:</th>      <td>nonrobust</td>    <th>                     </th>     <td> </td>   \n",
       "</tr>\n",
       "</table>\n",
       "<table class=\"simpletable\">\n",
       "<tr>\n",
       "            <td></td>               <th>coef</th>     <th>std err</th>      <th>t</th>      <th>P>|t|</th>  <th>[0.025</th>    <th>0.975]</th>  \n",
       "</tr>\n",
       "<tr>\n",
       "  <th>Intercept</th>             <td>-3503.3867</td> <td> 1944.974</td> <td>   -1.801</td> <td> 0.076</td> <td>-7383.503</td> <td>  376.730</td>\n",
       "</tr>\n",
       "<tr>\n",
       "  <th>POBLACION</th>             <td>    0.0001</td> <td> 2.13e-05</td> <td>    4.816</td> <td> 0.000</td> <td> 6.01e-05</td> <td>    0.000</td>\n",
       "</tr>\n",
       "<tr>\n",
       "  <th>COVERTURA_TERAPIA_VIH</th> <td>  120.9413</td> <td>   32.043</td> <td>    3.774</td> <td> 0.000</td> <td>   57.018</td> <td>  184.865</td>\n",
       "</tr>\n",
       "</table>\n",
       "<table class=\"simpletable\">\n",
       "<tr>\n",
       "  <th>Omnibus:</th>       <td>30.748</td> <th>  Durbin-Watson:     </th> <td>   1.856</td>\n",
       "</tr>\n",
       "<tr>\n",
       "  <th>Prob(Omnibus):</th> <td> 0.000</td> <th>  Jarque-Bera (JB):  </th> <td>  61.208</td>\n",
       "</tr>\n",
       "<tr>\n",
       "  <th>Skew:</th>          <td> 1.503</td> <th>  Prob(JB):          </th> <td>5.12e-14</td>\n",
       "</tr>\n",
       "<tr>\n",
       "  <th>Kurtosis:</th>      <td> 6.372</td> <th>  Cond. No.          </th> <td>1.08e+08</td>\n",
       "</tr>\n",
       "</table><br/><br/>Notes:<br/>[1] Standard Errors assume that the covariance matrix of the errors is correctly specified.<br/>[2] The condition number is large, 1.08e+08. This might indicate that there are<br/>strong multicollinearity or other numerical problems."
      ],
      "text/plain": [
       "<class 'statsmodels.iolib.summary.Summary'>\n",
       "\"\"\"\n",
       "                            OLS Regression Results                            \n",
       "==============================================================================\n",
       "Dep. Variable:            MUERTES_VIH   R-squared:                       0.368\n",
       "Model:                            OLS   Adj. R-squared:                  0.350\n",
       "Method:                 Least Squares   F-statistic:                     20.10\n",
       "Date:                Fri, 04 Mar 2022   Prob (F-statistic):           1.33e-07\n",
       "Time:                        08:13:09   Log-Likelihood:                -743.84\n",
       "No. Observations:                  72   AIC:                             1494.\n",
       "Df Residuals:                      69   BIC:                             1501.\n",
       "Df Model:                           2                                         \n",
       "Covariance Type:            nonrobust                                         \n",
       "=========================================================================================\n",
       "                            coef    std err          t      P>|t|      [0.025      0.975]\n",
       "-----------------------------------------------------------------------------------------\n",
       "Intercept             -3503.3867   1944.974     -1.801      0.076   -7383.503     376.730\n",
       "POBLACION                 0.0001   2.13e-05      4.816      0.000    6.01e-05       0.000\n",
       "COVERTURA_TERAPIA_VIH   120.9413     32.043      3.774      0.000      57.018     184.865\n",
       "==============================================================================\n",
       "Omnibus:                       30.748   Durbin-Watson:                   1.856\n",
       "Prob(Omnibus):                  0.000   Jarque-Bera (JB):               61.208\n",
       "Skew:                           1.503   Prob(JB):                     5.12e-14\n",
       "Kurtosis:                       6.372   Cond. No.                     1.08e+08\n",
       "==============================================================================\n",
       "\n",
       "Notes:\n",
       "[1] Standard Errors assume that the covariance matrix of the errors is correctly specified.\n",
       "[2] The condition number is large, 1.08e+08. This might indicate that there are\n",
       "strong multicollinearity or other numerical problems.\n",
       "\"\"\""
      ]
     },
     "execution_count": 119,
     "metadata": {},
     "output_type": "execute_result"
    }
   ],
   "source": [
    "lm5.summary()"
   ]
  },
  {
   "cell_type": "code",
   "execution_count": 120,
   "id": "03c16cec",
   "metadata": {},
   "outputs": [],
   "source": [
    "MUERTES_VIH_pred_5 = lm5.predict(pd.DataFrame(cluster_2_df_covid_vih[[\"POBLACION\", \"COVERTURA_TERAPIA_VIH\"]]))"
   ]
  },
  {
   "cell_type": "code",
   "execution_count": 121,
   "id": "ecb462e1",
   "metadata": {},
   "outputs": [
    {
     "data": {
      "text/plain": [
       "3966115805.4944167"
      ]
     },
     "execution_count": 121,
     "metadata": {},
     "output_type": "execute_result"
    }
   ],
   "source": [
    "SSD5 = sum((cluster_2_df_covid_vih[\"MUERTES_VIH\"]-MUERTES_VIH_pred_5)**2) # Suma de los cuadrados de la diferencia\n",
    "SSD5"
   ]
  },
  {
   "cell_type": "code",
   "execution_count": 122,
   "id": "7f194b72",
   "metadata": {},
   "outputs": [
    {
     "data": {
      "text/plain": [
       "7581.55255934192"
      ]
     },
     "execution_count": 122,
     "metadata": {},
     "output_type": "execute_result"
    }
   ],
   "source": [
    "RSE5 = np.sqrt(SSD5/(len(cluster_2_df_covid_vih)-2-1))\n",
    "RSE5"
   ]
  },
  {
   "cell_type": "code",
   "execution_count": 123,
   "id": "bd6d2ae3",
   "metadata": {},
   "outputs": [
    {
     "data": {
      "text/plain": [
       "1.3755393438008534"
      ]
     },
     "execution_count": 123,
     "metadata": {},
     "output_type": "execute_result"
    }
   ],
   "source": [
    "error_promedio_5 = RSE5/MUERTES_VIH_mean\n",
    "error_promedio_5"
   ]
  },
  {
   "cell_type": "markdown",
   "id": "b20b1dae",
   "metadata": {},
   "source": [
    "Con base en los parámetros calculados, se evidencia que el modelo mejora."
   ]
  },
  {
   "cell_type": "markdown",
   "id": "6f17a359",
   "metadata": {},
   "source": [
    "### Predicción de Muertes VIH en Función de la Población + Covertura Terapia de VIH + Promedio Edad"
   ]
  },
  {
   "cell_type": "markdown",
   "id": "f8978916",
   "metadata": {},
   "source": [
    "Se adiciona una tercera variable, al anterior modelo construido con los atributo de POBLACIÓN y COVERTURA TERAPIA VIH, con el fin de establecer si el modelo mejora nuevamente. El tercer atributo con mejores resultados es PROMEDIO EDAD."
   ]
  },
  {
   "cell_type": "code",
   "execution_count": 124,
   "id": "7d29bdf9",
   "metadata": {},
   "outputs": [],
   "source": [
    "lm6 = smf.ols(formula = \"MUERTES_VIH~POBLACION+COVERTURA_TERAPIA_VIH+PROMEDIO_EDAD\", data = cluster_2_df_covid_vih).fit()"
   ]
  },
  {
   "cell_type": "code",
   "execution_count": 125,
   "id": "dde9da2e",
   "metadata": {},
   "outputs": [
    {
     "data": {
      "text/plain": [
       "Intercept                7280.862285\n",
       "POBLACION                   0.000101\n",
       "COVERTURA_TERAPIA_VIH      99.983788\n",
       "PROMEDIO_EDAD            -448.146168\n",
       "dtype: float64"
      ]
     },
     "execution_count": 125,
     "metadata": {},
     "output_type": "execute_result"
    }
   ],
   "source": [
    "lm6.params"
   ]
  },
  {
   "cell_type": "code",
   "execution_count": 126,
   "id": "0c366336",
   "metadata": {},
   "outputs": [
    {
     "data": {
      "text/plain": [
       "Intercept                0.156850\n",
       "POBLACION                0.000007\n",
       "COVERTURA_TERAPIA_VIH    0.002961\n",
       "PROMEDIO_EDAD            0.025525\n",
       "dtype: float64"
      ]
     },
     "execution_count": 126,
     "metadata": {},
     "output_type": "execute_result"
    }
   ],
   "source": [
    "lm6.pvalues"
   ]
  },
  {
   "cell_type": "code",
   "execution_count": 127,
   "id": "c1b2b53d",
   "metadata": {},
   "outputs": [
    {
     "data": {
      "text/plain": [
       "0.41310957570316165"
      ]
     },
     "execution_count": 127,
     "metadata": {},
     "output_type": "execute_result"
    }
   ],
   "source": [
    "lm6.rsquared"
   ]
  },
  {
   "cell_type": "code",
   "execution_count": 128,
   "id": "b9aeccf0",
   "metadata": {},
   "outputs": [
    {
     "data": {
      "text/html": [
       "<table class=\"simpletable\">\n",
       "<caption>OLS Regression Results</caption>\n",
       "<tr>\n",
       "  <th>Dep. Variable:</th>       <td>MUERTES_VIH</td>   <th>  R-squared:         </th> <td>   0.413</td>\n",
       "</tr>\n",
       "<tr>\n",
       "  <th>Model:</th>                   <td>OLS</td>       <th>  Adj. R-squared:    </th> <td>   0.387</td>\n",
       "</tr>\n",
       "<tr>\n",
       "  <th>Method:</th>             <td>Least Squares</td>  <th>  F-statistic:       </th> <td>   15.95</td>\n",
       "</tr>\n",
       "<tr>\n",
       "  <th>Date:</th>             <td>Fri, 04 Mar 2022</td> <th>  Prob (F-statistic):</th> <td>5.89e-08</td>\n",
       "</tr>\n",
       "<tr>\n",
       "  <th>Time:</th>                 <td>08:13:14</td>     <th>  Log-Likelihood:    </th> <td> -741.18</td>\n",
       "</tr>\n",
       "<tr>\n",
       "  <th>No. Observations:</th>      <td>    72</td>      <th>  AIC:               </th> <td>   1490.</td>\n",
       "</tr>\n",
       "<tr>\n",
       "  <th>Df Residuals:</th>          <td>    68</td>      <th>  BIC:               </th> <td>   1499.</td>\n",
       "</tr>\n",
       "<tr>\n",
       "  <th>Df Model:</th>              <td>     3</td>      <th>                     </th>     <td> </td>   \n",
       "</tr>\n",
       "<tr>\n",
       "  <th>Covariance Type:</th>      <td>nonrobust</td>    <th>                     </th>     <td> </td>   \n",
       "</tr>\n",
       "</table>\n",
       "<table class=\"simpletable\">\n",
       "<tr>\n",
       "            <td></td>               <th>coef</th>     <th>std err</th>      <th>t</th>      <th>P>|t|</th>  <th>[0.025</th>    <th>0.975]</th>  \n",
       "</tr>\n",
       "<tr>\n",
       "  <th>Intercept</th>             <td> 7280.8623</td> <td> 5085.968</td> <td>    1.432</td> <td> 0.157</td> <td>-2868.028</td> <td> 1.74e+04</td>\n",
       "</tr>\n",
       "<tr>\n",
       "  <th>POBLACION</th>             <td>    0.0001</td> <td> 2.07e-05</td> <td>    4.869</td> <td> 0.000</td> <td> 5.94e-05</td> <td>    0.000</td>\n",
       "</tr>\n",
       "<tr>\n",
       "  <th>COVERTURA_TERAPIA_VIH</th> <td>   99.9838</td> <td>   32.432</td> <td>    3.083</td> <td> 0.003</td> <td>   35.266</td> <td>  164.701</td>\n",
       "</tr>\n",
       "<tr>\n",
       "  <th>PROMEDIO_EDAD</th>         <td> -448.1462</td> <td>  196.246</td> <td>   -2.284</td> <td> 0.026</td> <td> -839.749</td> <td>  -56.543</td>\n",
       "</tr>\n",
       "</table>\n",
       "<table class=\"simpletable\">\n",
       "<tr>\n",
       "  <th>Omnibus:</th>       <td>31.617</td> <th>  Durbin-Watson:     </th> <td>   1.944</td>\n",
       "</tr>\n",
       "<tr>\n",
       "  <th>Prob(Omnibus):</th> <td> 0.000</td> <th>  Jarque-Bera (JB):  </th> <td>  61.657</td>\n",
       "</tr>\n",
       "<tr>\n",
       "  <th>Skew:</th>          <td> 1.570</td> <th>  Prob(JB):          </th> <td>4.09e-14</td>\n",
       "</tr>\n",
       "<tr>\n",
       "  <th>Kurtosis:</th>      <td> 6.271</td> <th>  Cond. No.          </th> <td>2.91e+08</td>\n",
       "</tr>\n",
       "</table><br/><br/>Notes:<br/>[1] Standard Errors assume that the covariance matrix of the errors is correctly specified.<br/>[2] The condition number is large, 2.91e+08. This might indicate that there are<br/>strong multicollinearity or other numerical problems."
      ],
      "text/plain": [
       "<class 'statsmodels.iolib.summary.Summary'>\n",
       "\"\"\"\n",
       "                            OLS Regression Results                            \n",
       "==============================================================================\n",
       "Dep. Variable:            MUERTES_VIH   R-squared:                       0.413\n",
       "Model:                            OLS   Adj. R-squared:                  0.387\n",
       "Method:                 Least Squares   F-statistic:                     15.95\n",
       "Date:                Fri, 04 Mar 2022   Prob (F-statistic):           5.89e-08\n",
       "Time:                        08:13:14   Log-Likelihood:                -741.18\n",
       "No. Observations:                  72   AIC:                             1490.\n",
       "Df Residuals:                      68   BIC:                             1499.\n",
       "Df Model:                           3                                         \n",
       "Covariance Type:            nonrobust                                         \n",
       "=========================================================================================\n",
       "                            coef    std err          t      P>|t|      [0.025      0.975]\n",
       "-----------------------------------------------------------------------------------------\n",
       "Intercept              7280.8623   5085.968      1.432      0.157   -2868.028    1.74e+04\n",
       "POBLACION                 0.0001   2.07e-05      4.869      0.000    5.94e-05       0.000\n",
       "COVERTURA_TERAPIA_VIH    99.9838     32.432      3.083      0.003      35.266     164.701\n",
       "PROMEDIO_EDAD          -448.1462    196.246     -2.284      0.026    -839.749     -56.543\n",
       "==============================================================================\n",
       "Omnibus:                       31.617   Durbin-Watson:                   1.944\n",
       "Prob(Omnibus):                  0.000   Jarque-Bera (JB):               61.657\n",
       "Skew:                           1.570   Prob(JB):                     4.09e-14\n",
       "Kurtosis:                       6.271   Cond. No.                     2.91e+08\n",
       "==============================================================================\n",
       "\n",
       "Notes:\n",
       "[1] Standard Errors assume that the covariance matrix of the errors is correctly specified.\n",
       "[2] The condition number is large, 2.91e+08. This might indicate that there are\n",
       "strong multicollinearity or other numerical problems.\n",
       "\"\"\""
      ]
     },
     "execution_count": 128,
     "metadata": {},
     "output_type": "execute_result"
    }
   ],
   "source": [
    "lm6.summary()"
   ]
  },
  {
   "cell_type": "code",
   "execution_count": 129,
   "id": "751bdee0",
   "metadata": {},
   "outputs": [],
   "source": [
    "MUERTES_VIH_pred_6 = lm6.predict(pd.DataFrame(cluster_2_df_covid_vih[[\"POBLACION\", \"COVERTURA_TERAPIA_VIH\", \"PROMEDIO_EDAD\"]]))"
   ]
  },
  {
   "cell_type": "code",
   "execution_count": 130,
   "id": "ad213b6a",
   "metadata": {},
   "outputs": [
    {
     "data": {
      "text/plain": [
       "3683625149.5372725"
      ]
     },
     "execution_count": 130,
     "metadata": {},
     "output_type": "execute_result"
    }
   ],
   "source": [
    "SSD6 = sum((cluster_2_df_covid_vih[\"MUERTES_VIH\"]-MUERTES_VIH_pred_6)**2) # Suma de los cuadrados de la diferencia\n",
    "SSD6"
   ]
  },
  {
   "cell_type": "code",
   "execution_count": 131,
   "id": "023dad4c",
   "metadata": {},
   "outputs": [
    {
     "data": {
      "text/plain": [
       "7360.092260388485"
      ]
     },
     "execution_count": 131,
     "metadata": {},
     "output_type": "execute_result"
    }
   ],
   "source": [
    "RSE6 = np.sqrt(SSD6/(len(cluster_2_df_covid_vih)-3-1))\n",
    "RSE6"
   ]
  },
  {
   "cell_type": "code",
   "execution_count": 132,
   "id": "e335b02b",
   "metadata": {},
   "outputs": [
    {
     "data": {
      "text/plain": [
       "1.3353592682931013"
      ]
     },
     "execution_count": 132,
     "metadata": {},
     "output_type": "execute_result"
    }
   ],
   "source": [
    "error_promedio_6 = RSE6/MUERTES_VIH_mean\n",
    "error_promedio_6"
   ]
  },
  {
   "cell_type": "markdown",
   "id": "23856644",
   "metadata": {},
   "source": [
    "Al agregar la tercera variable, aunque se incrementa el valor del parámetro R2, el error calculado disminuye muy poco."
   ]
  }
 ],
 "metadata": {
  "kernelspec": {
   "display_name": "Python 3 (ipykernel)",
   "language": "python",
   "name": "python3"
  },
  "language_info": {
   "codemirror_mode": {
    "name": "ipython",
    "version": 3
   },
   "file_extension": ".py",
   "mimetype": "text/x-python",
   "name": "python",
   "nbconvert_exporter": "python",
   "pygments_lexer": "ipython3",
   "version": "3.9.7"
  },
  "toc": {
   "base_numbering": 1,
   "nav_menu": {},
   "number_sections": true,
   "sideBar": true,
   "skip_h1_title": false,
   "title_cell": "Table of Contents",
   "title_sidebar": "Contents",
   "toc_cell": false,
   "toc_position": {},
   "toc_section_display": true,
   "toc_window_display": false
  }
 },
 "nbformat": 4,
 "nbformat_minor": 5
}
